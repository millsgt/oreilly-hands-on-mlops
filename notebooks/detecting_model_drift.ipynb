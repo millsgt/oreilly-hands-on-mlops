{
 "cells": [
  {
   "cell_type": "code",
   "execution_count": 86,
   "id": "a54932c6",
   "metadata": {},
   "outputs": [],
   "source": [
    "import pandas as pd\n",
    "import numpy as np\n",
    "import re\n",
    "from datasets import Dataset, load_metric\n",
    "from transformers import Trainer, TrainingArguments, DistilBertForSequenceClassification, DistilBertTokenizer, DataCollatorWithPadding"
   ]
  },
  {
   "cell_type": "code",
   "execution_count": 87,
   "id": "02f8521e",
   "metadata": {
    "scrolled": true
   },
   "outputs": [
    {
     "name": "stderr",
     "output_type": "stream",
     "text": [
      "/Users/sinanozdemir/opt/anaconda3/lib/python3.9/site-packages/pandas/core/tools/datetimes.py:1047: UserWarning: Parsing '13-04-2020' in DD/MM/YYYY format. Provide format or specify infer_datetime_format=True for consistent parsing.\n",
      "  cache_array = _maybe_cache(arg, format, cache, convert_listlike)\n",
      "/Users/sinanozdemir/opt/anaconda3/lib/python3.9/site-packages/pandas/core/tools/datetimes.py:1047: UserWarning: Parsing '14-04-2020' in DD/MM/YYYY format. Provide format or specify infer_datetime_format=True for consistent parsing.\n",
      "  cache_array = _maybe_cache(arg, format, cache, convert_listlike)\n",
      "/Users/sinanozdemir/opt/anaconda3/lib/python3.9/site-packages/pandas/core/tools/datetimes.py:1047: UserWarning: Parsing '25-03-2020' in DD/MM/YYYY format. Provide format or specify infer_datetime_format=True for consistent parsing.\n",
      "  cache_array = _maybe_cache(arg, format, cache, convert_listlike)\n",
      "/Users/sinanozdemir/opt/anaconda3/lib/python3.9/site-packages/pandas/core/tools/datetimes.py:1047: UserWarning: Parsing '26-03-2020' in DD/MM/YYYY format. Provide format or specify infer_datetime_format=True for consistent parsing.\n",
      "  cache_array = _maybe_cache(arg, format, cache, convert_listlike)\n",
      "/Users/sinanozdemir/opt/anaconda3/lib/python3.9/site-packages/pandas/core/tools/datetimes.py:1047: UserWarning: Parsing '21-03-2020' in DD/MM/YYYY format. Provide format or specify infer_datetime_format=True for consistent parsing.\n",
      "  cache_array = _maybe_cache(arg, format, cache, convert_listlike)\n",
      "/Users/sinanozdemir/opt/anaconda3/lib/python3.9/site-packages/pandas/core/tools/datetimes.py:1047: UserWarning: Parsing '19-03-2020' in DD/MM/YYYY format. Provide format or specify infer_datetime_format=True for consistent parsing.\n",
      "  cache_array = _maybe_cache(arg, format, cache, convert_listlike)\n",
      "/Users/sinanozdemir/opt/anaconda3/lib/python3.9/site-packages/pandas/core/tools/datetimes.py:1047: UserWarning: Parsing '22-03-2020' in DD/MM/YYYY format. Provide format or specify infer_datetime_format=True for consistent parsing.\n",
      "  cache_array = _maybe_cache(arg, format, cache, convert_listlike)\n",
      "/Users/sinanozdemir/opt/anaconda3/lib/python3.9/site-packages/pandas/core/tools/datetimes.py:1047: UserWarning: Parsing '20-03-2020' in DD/MM/YYYY format. Provide format or specify infer_datetime_format=True for consistent parsing.\n",
      "  cache_array = _maybe_cache(arg, format, cache, convert_listlike)\n",
      "/Users/sinanozdemir/opt/anaconda3/lib/python3.9/site-packages/pandas/core/tools/datetimes.py:1047: UserWarning: Parsing '23-03-2020' in DD/MM/YYYY format. Provide format or specify infer_datetime_format=True for consistent parsing.\n",
      "  cache_array = _maybe_cache(arg, format, cache, convert_listlike)\n",
      "/Users/sinanozdemir/opt/anaconda3/lib/python3.9/site-packages/pandas/core/tools/datetimes.py:1047: UserWarning: Parsing '18-03-2020' in DD/MM/YYYY format. Provide format or specify infer_datetime_format=True for consistent parsing.\n",
      "  cache_array = _maybe_cache(arg, format, cache, convert_listlike)\n",
      "/Users/sinanozdemir/opt/anaconda3/lib/python3.9/site-packages/pandas/core/tools/datetimes.py:1047: UserWarning: Parsing '17-03-2020' in DD/MM/YYYY format. Provide format or specify infer_datetime_format=True for consistent parsing.\n",
      "  cache_array = _maybe_cache(arg, format, cache, convert_listlike)\n",
      "/Users/sinanozdemir/opt/anaconda3/lib/python3.9/site-packages/pandas/core/tools/datetimes.py:1047: UserWarning: Parsing '24-03-2020' in DD/MM/YYYY format. Provide format or specify infer_datetime_format=True for consistent parsing.\n",
      "  cache_array = _maybe_cache(arg, format, cache, convert_listlike)\n",
      "/Users/sinanozdemir/opt/anaconda3/lib/python3.9/site-packages/pandas/core/tools/datetimes.py:1047: UserWarning: Parsing '31-03-2020' in DD/MM/YYYY format. Provide format or specify infer_datetime_format=True for consistent parsing.\n",
      "  cache_array = _maybe_cache(arg, format, cache, convert_listlike)\n",
      "/Users/sinanozdemir/opt/anaconda3/lib/python3.9/site-packages/pandas/core/tools/datetimes.py:1047: UserWarning: Parsing '29-03-2020' in DD/MM/YYYY format. Provide format or specify infer_datetime_format=True for consistent parsing.\n",
      "  cache_array = _maybe_cache(arg, format, cache, convert_listlike)\n",
      "/Users/sinanozdemir/opt/anaconda3/lib/python3.9/site-packages/pandas/core/tools/datetimes.py:1047: UserWarning: Parsing '30-03-2020' in DD/MM/YYYY format. Provide format or specify infer_datetime_format=True for consistent parsing.\n",
      "  cache_array = _maybe_cache(arg, format, cache, convert_listlike)\n",
      "/Users/sinanozdemir/opt/anaconda3/lib/python3.9/site-packages/pandas/core/tools/datetimes.py:1047: UserWarning: Parsing '16-03-2020' in DD/MM/YYYY format. Provide format or specify infer_datetime_format=True for consistent parsing.\n",
      "  cache_array = _maybe_cache(arg, format, cache, convert_listlike)\n",
      "/Users/sinanozdemir/opt/anaconda3/lib/python3.9/site-packages/pandas/core/tools/datetimes.py:1047: UserWarning: Parsing '27-03-2020' in DD/MM/YYYY format. Provide format or specify infer_datetime_format=True for consistent parsing.\n",
      "  cache_array = _maybe_cache(arg, format, cache, convert_listlike)\n"
     ]
    },
    {
     "data": {
      "text/html": [
       "<div>\n",
       "<style scoped>\n",
       "    .dataframe tbody tr th:only-of-type {\n",
       "        vertical-align: middle;\n",
       "    }\n",
       "\n",
       "    .dataframe tbody tr th {\n",
       "        vertical-align: top;\n",
       "    }\n",
       "\n",
       "    .dataframe thead th {\n",
       "        text-align: right;\n",
       "    }\n",
       "</style>\n",
       "<table border=\"1\" class=\"dataframe\">\n",
       "  <thead>\n",
       "    <tr style=\"text-align: right;\">\n",
       "      <th></th>\n",
       "      <th>UserName</th>\n",
       "      <th>ScreenName</th>\n",
       "      <th>Location</th>\n",
       "      <th>TweetAt</th>\n",
       "      <th>OriginalTweet</th>\n",
       "      <th>Sentiment</th>\n",
       "      <th>month</th>\n",
       "      <th>text</th>\n",
       "      <th>label</th>\n",
       "    </tr>\n",
       "    <tr>\n",
       "      <th>date</th>\n",
       "      <th></th>\n",
       "      <th></th>\n",
       "      <th></th>\n",
       "      <th></th>\n",
       "      <th></th>\n",
       "      <th></th>\n",
       "      <th></th>\n",
       "      <th></th>\n",
       "      <th></th>\n",
       "    </tr>\n",
       "  </thead>\n",
       "  <tbody>\n",
       "    <tr>\n",
       "      <th>2020-01-04</th>\n",
       "      <td>29309</td>\n",
       "      <td>74261</td>\n",
       "      <td>Tidal County, Knoxville, TN</td>\n",
       "      <td>01-04-2020</td>\n",
       "      <td>Overwhelmed with info Before you act stop Ask ...</td>\n",
       "      <td>Positive</td>\n",
       "      <td>1</td>\n",
       "      <td>Overwhelmed with info Before you act stop Ask ...</td>\n",
       "      <td>2</td>\n",
       "    </tr>\n",
       "    <tr>\n",
       "      <th>2020-01-04</th>\n",
       "      <td>29316</td>\n",
       "      <td>74268</td>\n",
       "      <td>Fort George G. Meade, Md.</td>\n",
       "      <td>01-04-2020</td>\n",
       "      <td>Malwarebytes rounded up some useful tips for s...</td>\n",
       "      <td>Extremely Positive</td>\n",
       "      <td>1</td>\n",
       "      <td>Malwarebytes rounded up some useful tips for s...</td>\n",
       "      <td>2</td>\n",
       "    </tr>\n",
       "    <tr>\n",
       "      <th>2020-01-04</th>\n",
       "      <td>29317</td>\n",
       "      <td>74269</td>\n",
       "      <td>Australia</td>\n",
       "      <td>01-04-2020</td>\n",
       "      <td>A Queensland mum has posted a heartbreaking pi...</td>\n",
       "      <td>Extremely Negative</td>\n",
       "      <td>1</td>\n",
       "      <td>A Queensland mum has posted a heartbreaking pi...</td>\n",
       "      <td>0</td>\n",
       "    </tr>\n",
       "    <tr>\n",
       "      <th>2020-01-04</th>\n",
       "      <td>29318</td>\n",
       "      <td>74270</td>\n",
       "      <td>Debt Jubilee</td>\n",
       "      <td>01-04-2020</td>\n",
       "      <td>New President Trump says U S gasoline prices w...</td>\n",
       "      <td>Neutral</td>\n",
       "      <td>1</td>\n",
       "      <td>New President Trump says U S gasoline prices w...</td>\n",
       "      <td>1</td>\n",
       "    </tr>\n",
       "    <tr>\n",
       "      <th>2020-01-04</th>\n",
       "      <td>29319</td>\n",
       "      <td>74271</td>\n",
       "      <td>??to Miami</td>\n",
       "      <td>01-04-2020</td>\n",
       "      <td>SUPERMARKET SAFETY is the latest grocery chain...</td>\n",
       "      <td>Extremely Positive</td>\n",
       "      <td>1</td>\n",
       "      <td>SUPERMARKET SAFETY is the latest grocery chain...</td>\n",
       "      <td>2</td>\n",
       "    </tr>\n",
       "  </tbody>\n",
       "</table>\n",
       "</div>"
      ],
      "text/plain": [
       "            UserName  ScreenName                     Location     TweetAt  \\\n",
       "date                                                                        \n",
       "2020-01-04     29309       74261  Tidal County, Knoxville, TN  01-04-2020   \n",
       "2020-01-04     29316       74268    Fort George G. Meade, Md.  01-04-2020   \n",
       "2020-01-04     29317       74269                    Australia  01-04-2020   \n",
       "2020-01-04     29318       74270                 Debt Jubilee  01-04-2020   \n",
       "2020-01-04     29319       74271                  ??to Miami   01-04-2020   \n",
       "\n",
       "                                                OriginalTweet  \\\n",
       "date                                                            \n",
       "2020-01-04  Overwhelmed with info Before you act stop Ask ...   \n",
       "2020-01-04  Malwarebytes rounded up some useful tips for s...   \n",
       "2020-01-04  A Queensland mum has posted a heartbreaking pi...   \n",
       "2020-01-04  New President Trump says U S gasoline prices w...   \n",
       "2020-01-04  SUPERMARKET SAFETY is the latest grocery chain...   \n",
       "\n",
       "                     Sentiment  month  \\\n",
       "date                                    \n",
       "2020-01-04            Positive      1   \n",
       "2020-01-04  Extremely Positive      1   \n",
       "2020-01-04  Extremely Negative      1   \n",
       "2020-01-04             Neutral      1   \n",
       "2020-01-04  Extremely Positive      1   \n",
       "\n",
       "                                                         text  label  \n",
       "date                                                                  \n",
       "2020-01-04  Overwhelmed with info Before you act stop Ask ...      2  \n",
       "2020-01-04  Malwarebytes rounded up some useful tips for s...      2  \n",
       "2020-01-04  A Queensland mum has posted a heartbreaking pi...      0  \n",
       "2020-01-04  New President Trump says U S gasoline prices w...      1  \n",
       "2020-01-04  SUPERMARKET SAFETY is the latest grocery chain...      2  "
      ]
     },
     "execution_count": 87,
     "metadata": {},
     "output_type": "execute_result"
    }
   ],
   "source": [
    "# read in our cleaned tweet from the model_serving notebook\n",
    "tweets = pd.read_csv('../data/cleaned_tweets.csv', encoding='ISO-8859-1')\n",
    "\n",
    "# convert the date to a datetime format\n",
    "tweets['date'] = pd.to_datetime(tweets['TweetAt']).astype('datetime64[ms]')\n",
    "\n",
    "# set our index as our datetime column and delete the date columns\n",
    "tweets.index = tweets['date']\n",
    "del tweets['date']\n",
    "\n",
    "# Sort our tweets\n",
    "tweets.sort_index(inplace=True)\n",
    "\n",
    "tweets.head()"
   ]
  },
  {
   "cell_type": "code",
   "execution_count": null,
   "id": "4a38e96e",
   "metadata": {},
   "outputs": [],
   "source": []
  },
  {
   "cell_type": "code",
   "execution_count": null,
   "id": "c5086f24",
   "metadata": {},
   "outputs": [],
   "source": []
  },
  {
   "cell_type": "code",
   "execution_count": 123,
   "id": "6e36c67f",
   "metadata": {},
   "outputs": [
    {
     "data": {
      "text/html": [
       "<div>\n",
       "<style scoped>\n",
       "    .dataframe tbody tr th:only-of-type {\n",
       "        vertical-align: middle;\n",
       "    }\n",
       "\n",
       "    .dataframe tbody tr th {\n",
       "        vertical-align: top;\n",
       "    }\n",
       "\n",
       "    .dataframe thead th {\n",
       "        text-align: right;\n",
       "    }\n",
       "</style>\n",
       "<table border=\"1\" class=\"dataframe\">\n",
       "  <thead>\n",
       "    <tr style=\"text-align: right;\">\n",
       "      <th></th>\n",
       "      <th>text</th>\n",
       "    </tr>\n",
       "    <tr>\n",
       "      <th>month</th>\n",
       "      <th></th>\n",
       "    </tr>\n",
       "  </thead>\n",
       "  <tbody>\n",
       "    <tr>\n",
       "      <th>1</th>\n",
       "      <td>220</td>\n",
       "    </tr>\n",
       "    <tr>\n",
       "      <th>2</th>\n",
       "      <td>359</td>\n",
       "    </tr>\n",
       "    <tr>\n",
       "      <th>3</th>\n",
       "      <td>1578</td>\n",
       "    </tr>\n",
       "    <tr>\n",
       "      <th>4</th>\n",
       "      <td>879</td>\n",
       "    </tr>\n",
       "    <tr>\n",
       "      <th>5</th>\n",
       "      <td>388</td>\n",
       "    </tr>\n",
       "    <tr>\n",
       "      <th>6</th>\n",
       "      <td>607</td>\n",
       "    </tr>\n",
       "    <tr>\n",
       "      <th>7</th>\n",
       "      <td>636</td>\n",
       "    </tr>\n",
       "    <tr>\n",
       "      <th>8</th>\n",
       "      <td>670</td>\n",
       "    </tr>\n",
       "    <tr>\n",
       "      <th>9</th>\n",
       "      <td>512</td>\n",
       "    </tr>\n",
       "    <tr>\n",
       "      <th>10</th>\n",
       "      <td>376</td>\n",
       "    </tr>\n",
       "    <tr>\n",
       "      <th>11</th>\n",
       "      <td>333</td>\n",
       "    </tr>\n",
       "    <tr>\n",
       "      <th>12</th>\n",
       "      <td>284</td>\n",
       "    </tr>\n",
       "  </tbody>\n",
       "</table>\n",
       "</div>"
      ],
      "text/plain": [
       "       text\n",
       "month      \n",
       "1       220\n",
       "2       359\n",
       "3      1578\n",
       "4       879\n",
       "5       388\n",
       "6       607\n",
       "7       636\n",
       "8       670\n",
       "9       512\n",
       "10      376\n",
       "11      333\n",
       "12      284"
      ]
     },
     "execution_count": 123,
     "metadata": {},
     "output_type": "execute_result"
    }
   ],
   "source": [
    "# Calculate accuracy change by month\n",
    "monthly_stats = tweets.groupby('month')[['text']].count()\n",
    "monthly_stats\n"
   ]
  },
  {
   "cell_type": "code",
   "execution_count": 124,
   "id": "4805f698",
   "metadata": {},
   "outputs": [],
   "source": [
    "import torchdrift\n",
    "import torch\n",
    "from torch.utils.data import DataLoader\n",
    "import tqdm\n",
    "from nlp import Dataset\n",
    "from transformers import AutoModelForSequenceClassification"
   ]
  },
  {
   "cell_type": "code",
   "execution_count": 90,
   "id": "1afeca59",
   "metadata": {},
   "outputs": [],
   "source": [
    "class CovidExtractor(torch.nn.Module):\n",
    "    def __init__(self):\n",
    "        super(CovidExtractor, self).__init__()\n",
    "        self.model = AutoModelForSequenceClassification.from_pretrained('./drift_clf/results', num_labels=3)\n",
    "\n",
    "    def forward(self, _input):\n",
    "        return(self.model.distilbert(**_input)).last_hidden_state[:,0,:]"
   ]
  },
  {
   "cell_type": "code",
   "execution_count": 91,
   "id": "72487c40",
   "metadata": {
    "scrolled": true
   },
   "outputs": [
    {
     "name": "stderr",
     "output_type": "stream",
     "text": [
      "loading configuration file ./drift_clf/results/config.json\n",
      "Model config DistilBertConfig {\n",
      "  \"_name_or_path\": \"./drift_clf/results\",\n",
      "  \"activation\": \"gelu\",\n",
      "  \"architectures\": [\n",
      "    \"DistilBertForSequenceClassification\"\n",
      "  ],\n",
      "  \"attention_dropout\": 0.1,\n",
      "  \"dim\": 768,\n",
      "  \"dropout\": 0.1,\n",
      "  \"hidden_dim\": 3072,\n",
      "  \"id2label\": {\n",
      "    \"0\": \"LABEL_0\",\n",
      "    \"1\": \"LABEL_1\",\n",
      "    \"2\": \"LABEL_2\"\n",
      "  },\n",
      "  \"initializer_range\": 0.02,\n",
      "  \"label2id\": {\n",
      "    \"LABEL_0\": 0,\n",
      "    \"LABEL_1\": 1,\n",
      "    \"LABEL_2\": 2\n",
      "  },\n",
      "  \"max_position_embeddings\": 512,\n",
      "  \"model_type\": \"distilbert\",\n",
      "  \"n_heads\": 12,\n",
      "  \"n_layers\": 6,\n",
      "  \"pad_token_id\": 0,\n",
      "  \"problem_type\": \"single_label_classification\",\n",
      "  \"qa_dropout\": 0.1,\n",
      "  \"seq_classif_dropout\": 0.2,\n",
      "  \"sinusoidal_pos_embds\": false,\n",
      "  \"tie_weights_\": true,\n",
      "  \"torch_dtype\": \"float32\",\n",
      "  \"transformers_version\": \"4.19.4\",\n",
      "  \"vocab_size\": 30522\n",
      "}\n",
      "\n",
      "loading weights file ./drift_clf/results/pytorch_model.bin\n",
      "All model checkpoint weights were used when initializing DistilBertForSequenceClassification.\n",
      "\n",
      "All the weights of DistilBertForSequenceClassification were initialized from the model checkpoint at ./drift_clf/results.\n",
      "If your task is similar to the task the model of the checkpoint was trained on, you can already use DistilBertForSequenceClassification for predictions without further training.\n"
     ]
    }
   ],
   "source": [
    "covid_extractor = CovidExtractor()"
   ]
  },
  {
   "cell_type": "code",
   "execution_count": 92,
   "id": "435d685d",
   "metadata": {
    "scrolled": true
   },
   "outputs": [],
   "source": [
    "# Kolmogorov-Smirnov test\n",
    "detector = torchdrift.detectors.ks.KSDriftDetector()"
   ]
  },
  {
   "cell_type": "code",
   "execution_count": 104,
   "id": "fc1fac4d",
   "metadata": {},
   "outputs": [],
   "source": [
    "detectors = {\n",
    "    'ks': torchdrift.detectors.ks.KSDriftDetector(),\n",
    "    'kernel': torchdrift.detectors.KernelMMDDriftDetector()\n",
    "}"
   ]
  },
  {
   "cell_type": "code",
   "execution_count": 93,
   "id": "967ed62a",
   "metadata": {},
   "outputs": [
    {
     "data": {
      "text/html": [
       "<div>\n",
       "<style scoped>\n",
       "    .dataframe tbody tr th:only-of-type {\n",
       "        vertical-align: middle;\n",
       "    }\n",
       "\n",
       "    .dataframe tbody tr th {\n",
       "        vertical-align: top;\n",
       "    }\n",
       "\n",
       "    .dataframe thead th {\n",
       "        text-align: right;\n",
       "    }\n",
       "</style>\n",
       "<table border=\"1\" class=\"dataframe\">\n",
       "  <thead>\n",
       "    <tr style=\"text-align: right;\">\n",
       "      <th></th>\n",
       "      <th>date</th>\n",
       "      <th>UserName</th>\n",
       "      <th>ScreenName</th>\n",
       "      <th>Location</th>\n",
       "      <th>TweetAt</th>\n",
       "      <th>OriginalTweet</th>\n",
       "      <th>Sentiment</th>\n",
       "      <th>month</th>\n",
       "      <th>text</th>\n",
       "      <th>label</th>\n",
       "    </tr>\n",
       "  </thead>\n",
       "  <tbody>\n",
       "    <tr>\n",
       "      <th>2152</th>\n",
       "      <td>2020-03-31</td>\n",
       "      <td>29063</td>\n",
       "      <td>74015</td>\n",
       "      <td>Toronto, Canada</td>\n",
       "      <td>31-03-2020</td>\n",
       "      <td>Saputo says demand for its products is shiftin...</td>\n",
       "      <td>Negative</td>\n",
       "      <td>3</td>\n",
       "      <td>Saputo says demand for its products is shiftin...</td>\n",
       "      <td>0</td>\n",
       "    </tr>\n",
       "    <tr>\n",
       "      <th>2153</th>\n",
       "      <td>2020-03-31</td>\n",
       "      <td>28994</td>\n",
       "      <td>73946</td>\n",
       "      <td>has passport, will travel</td>\n",
       "      <td>31-03-2020</td>\n",
       "      <td>Covid 19 - milk supply under threat amid deman...</td>\n",
       "      <td>Negative</td>\n",
       "      <td>3</td>\n",
       "      <td>Covid 19 - milk supply under threat amid deman...</td>\n",
       "      <td>0</td>\n",
       "    </tr>\n",
       "    <tr>\n",
       "      <th>2154</th>\n",
       "      <td>2020-03-31</td>\n",
       "      <td>29204</td>\n",
       "      <td>74156</td>\n",
       "      <td>Walhalla, South Carolina</td>\n",
       "      <td>31-03-2020</td>\n",
       "      <td>Our latest details how fraudsters are trying t...</td>\n",
       "      <td>Negative</td>\n",
       "      <td>3</td>\n",
       "      <td>Our latest details how fraudsters are trying t...</td>\n",
       "      <td>0</td>\n",
       "    </tr>\n",
       "    <tr>\n",
       "      <th>2155</th>\n",
       "      <td>2020-03-31</td>\n",
       "      <td>29187</td>\n",
       "      <td>74139</td>\n",
       "      <td>Arlington, VA</td>\n",
       "      <td>31-03-2020</td>\n",
       "      <td>Some consumer companies tap nearly 99B amid bo...</td>\n",
       "      <td>Neutral</td>\n",
       "      <td>3</td>\n",
       "      <td>Some consumer companies tap nearly 99B amid bo...</td>\n",
       "      <td>1</td>\n",
       "    </tr>\n",
       "    <tr>\n",
       "      <th>2156</th>\n",
       "      <td>2020-03-31</td>\n",
       "      <td>29276</td>\n",
       "      <td>74228</td>\n",
       "      <td>Geneva, Switzerland</td>\n",
       "      <td>31-03-2020</td>\n",
       "      <td>EuropeÃÂs fresh food supply is being threate...</td>\n",
       "      <td>Negative</td>\n",
       "      <td>3</td>\n",
       "      <td>EuropeÃÂs fresh food supply is being threate...</td>\n",
       "      <td>0</td>\n",
       "    </tr>\n",
       "  </tbody>\n",
       "</table>\n",
       "</div>"
      ],
      "text/plain": [
       "           date  UserName  ScreenName                   Location     TweetAt  \\\n",
       "2152 2020-03-31     29063       74015            Toronto, Canada  31-03-2020   \n",
       "2153 2020-03-31     28994       73946  has passport, will travel  31-03-2020   \n",
       "2154 2020-03-31     29204       74156   Walhalla, South Carolina  31-03-2020   \n",
       "2155 2020-03-31     29187       74139              Arlington, VA  31-03-2020   \n",
       "2156 2020-03-31     29276       74228        Geneva, Switzerland  31-03-2020   \n",
       "\n",
       "                                          OriginalTweet Sentiment  month  \\\n",
       "2152  Saputo says demand for its products is shiftin...  Negative      3   \n",
       "2153  Covid 19 - milk supply under threat amid deman...  Negative      3   \n",
       "2154  Our latest details how fraudsters are trying t...  Negative      3   \n",
       "2155  Some consumer companies tap nearly 99B amid bo...   Neutral      3   \n",
       "2156  EuropeÃÂs fresh food supply is being threate...  Negative      3   \n",
       "\n",
       "                                                   text  label  \n",
       "2152  Saputo says demand for its products is shiftin...      0  \n",
       "2153  Covid 19 - milk supply under threat amid deman...      0  \n",
       "2154  Our latest details how fraudsters are trying t...      0  \n",
       "2155  Some consumer companies tap nearly 99B amid bo...      1  \n",
       "2156  EuropeÃÂs fresh food supply is being threate...      0  "
      ]
     },
     "execution_count": 93,
     "metadata": {},
     "output_type": "execute_result"
    }
   ],
   "source": [
    "training_tweets = tweets[:'2020-03'].reset_index()\n",
    "training_tweets.tail()\n"
   ]
  },
  {
   "cell_type": "code",
   "execution_count": null,
   "id": "28dc9b33",
   "metadata": {},
   "outputs": [],
   "source": []
  },
  {
   "cell_type": "code",
   "execution_count": null,
   "id": "3938bc79",
   "metadata": {},
   "outputs": [],
   "source": []
  },
  {
   "cell_type": "code",
   "execution_count": 94,
   "id": "b792bb88",
   "metadata": {
    "scrolled": true
   },
   "outputs": [
    {
     "data": {
      "application/vnd.jupyter.widget-view+json": {
       "model_id": "78267aed11c047d4b1ab4d58a571b2c3",
       "version_major": 2,
       "version_minor": 0
      },
      "text/plain": [
       "  0%|          | 0/3 [00:00<?, ?it/s]"
      ]
     },
     "metadata": {},
     "output_type": "display_data"
    }
   ],
   "source": [
    "march = Dataset.from_pandas(training_tweets[['text', 'label']])\n",
    "\n",
    "march = march.map(preprocess, batched=True)\n",
    "\n",
    "march.set_format('torch', columns=['input_ids', 'attention_mask'])\n",
    "\n",
    "dl = DataLoader(march, batch_size=128, collate_fn=DataCollatorWithPadding(bert_tokenizer), shuffle=True)\n",
    "\n",
    "nb = len(dl)"
   ]
  },
  {
   "cell_type": "code",
   "execution_count": 95,
   "id": "f80683d1",
   "metadata": {},
   "outputs": [
    {
     "name": "stderr",
     "output_type": "stream",
     "text": [
      "100%|████████████████████████████████████████████████████████████████████████████████████████████████████████████████████████████████| 17/17 [04:12<00:00, 14.83s/it]\n"
     ]
    }
   ],
   "source": [
    "all_outputs = []\n",
    "\n",
    "for i, b in tqdm.tqdm(zip(range(nb), dl), total=nb):\n",
    "    with torch.no_grad():\n",
    "        all_outputs.append(covid_extractor(b))\n",
    "\n",
    "all_outputs = torch.cat(all_outputs, dim=0)\n"
   ]
  },
  {
   "cell_type": "code",
   "execution_count": 96,
   "id": "7939b031",
   "metadata": {},
   "outputs": [
    {
     "data": {
      "text/plain": [
       "tensor([[ 0.0367,  0.3772, -0.1711,  ..., -0.9511,  0.7813, -1.3735],\n",
       "        [-0.2789,  0.3597, -0.1800,  ..., -0.8356,  0.8592, -1.2687],\n",
       "        [-0.2881, -0.2198,  0.6996,  ..., -0.4381, -0.0300,  0.5761],\n",
       "        ...,\n",
       "        [-0.6927, -0.2247,  0.3207,  ..., -0.1674, -0.4576, -0.0406],\n",
       "        [ 0.0155, -0.3382,  0.7343,  ..., -0.4943,  0.0105,  0.0503],\n",
       "        [-0.8570,  0.2670, -0.1425,  ..., -1.0843,  0.9389, -1.1407]])"
      ]
     },
     "execution_count": 96,
     "metadata": {},
     "output_type": "execute_result"
    }
   ],
   "source": [
    "detector.fit(all_outputs)"
   ]
  },
  {
   "cell_type": "code",
   "execution_count": 107,
   "id": "aa1d6207",
   "metadata": {},
   "outputs": [
    {
     "name": "stdout",
     "output_type": "stream",
     "text": [
      "Fit the ks detector\n",
      "Fit the kernel detector\n"
     ]
    }
   ],
   "source": [
    "for name, detector in detectors.items():\n",
    "    detector.fit(all_outputs)\n",
    "    print(f'Fit the {name} detector')"
   ]
  },
  {
   "cell_type": "code",
   "execution_count": null,
   "id": "bb73af0c",
   "metadata": {},
   "outputs": [],
   "source": []
  },
  {
   "cell_type": "code",
   "execution_count": 113,
   "id": "5b4fdbab",
   "metadata": {},
   "outputs": [],
   "source": [
    "# create a data loader to batch data together\n",
    "dl = DataLoader(march, batch_size=128, collate_fn=DataCollatorWithPadding(bert_tokenizer), shuffle=True)"
   ]
  },
  {
   "cell_type": "code",
   "execution_count": 114,
   "id": "3936d0a4",
   "metadata": {
    "scrolled": true
   },
   "outputs": [
    {
     "name": "stderr",
     "output_type": "stream",
     "text": [
      "\r",
      "  0%|                                                                                                                                          | 0/1 [00:00<?, ?it/s]"
     ]
    },
    {
     "name": "stdout",
     "output_type": "stream",
     "text": [
      "ks\n",
      "tensor(0.2364) 0.0015510617227511183\n",
      "kernel\n"
     ]
    },
    {
     "name": "stderr",
     "output_type": "stream",
     "text": [
      "100%|██████████████████████████████████████████████████████████████████████████████████████████████████████████████████████████████████| 1/1 [00:25<00:00, 25.08s/it]"
     ]
    },
    {
     "name": "stdout",
     "output_type": "stream",
     "text": [
      "tensor(0.2446) tensor(0.3996)\n"
     ]
    },
    {
     "name": "stderr",
     "output_type": "stream",
     "text": [
      "\n"
     ]
    }
   ],
   "source": [
    "scores, p_vals = [], []\n",
    "\n",
    "# run drift detector against benign data (from the training set)\n",
    "for i, b in tqdm.tqdm(zip(range(1), dl), total=1):\n",
    "    features = covid_extractor(b)\n",
    "    for name, detector in detectors.items():\n",
    "        print(name)\n",
    "        score = detector(features)\n",
    "        p_val = detector.compute_p_value(features)\n",
    "        scores.append(score)\n",
    "        p_vals.append(p_val)\n",
    "        print(sum(scores)/(i + 1), sum(p_vals)/(i + 1))"
   ]
  },
  {
   "cell_type": "code",
   "execution_count": null,
   "id": "8d85b9f6",
   "metadata": {},
   "outputs": [],
   "source": []
  },
  {
   "cell_type": "code",
   "execution_count": 141,
   "id": "d7f164b8",
   "metadata": {},
   "outputs": [],
   "source": [
    "def ks_scores_for_month(detector, month, num_samples=1, batch_size=128):\n",
    "    ood = tweets.loc[f'2020-{month}'].reset_index()\n",
    "\n",
    "    ood = Dataset.from_pandas(ood[['text', 'label']])\n",
    "\n",
    "    ood = ood.map(preprocess, batched=True)\n",
    "\n",
    "    ood.set_format('torch', columns=['input_ids', 'attention_mask'])\n",
    "\n",
    "    ood_dl = DataLoader(ood, batch_size=batch_size, collate_fn=DataCollatorWithPadding(bert_tokenizer), shuffle=True)\n",
    "    \n",
    "    ood_scores, ood_p_vals = [], []\n",
    "    \n",
    "    nb = min(num_samples, len(ood_dl))\n",
    "\n",
    "    for i, b in tqdm.tqdm(zip(range(nb), ood_dl), total=nb):\n",
    "        features = covid_extractor(b)\n",
    "        score = detector(features)\n",
    "        p_val = detector.compute_p_value(features)\n",
    "        ood_scores.append(score)\n",
    "        ood_p_vals.append(p_val)\n",
    "\n",
    "    return float(sum(ood_p_vals) / len(ood_p_vals))\n"
   ]
  },
  {
   "cell_type": "code",
   "execution_count": null,
   "id": "f9c360c0",
   "metadata": {},
   "outputs": [],
   "source": []
  },
  {
   "cell_type": "code",
   "execution_count": null,
   "id": "210a2499",
   "metadata": {
    "scrolled": true
   },
   "outputs": [
    {
     "data": {
      "application/vnd.jupyter.widget-view+json": {
       "model_id": "80f4c44a7e604773af0ee0e8bac57cb5",
       "version_major": 2,
       "version_minor": 0
      },
      "text/plain": [
       "  0%|          | 0/1 [00:00<?, ?it/s]"
      ]
     },
     "metadata": {},
     "output_type": "display_data"
    },
    {
     "name": "stderr",
     "output_type": "stream",
     "text": [
      "100%|██████████████████████████████████████████████████████████████████████████████████████████████████████████████████████████████████| 1/1 [00:14<00:00, 14.83s/it]\n"
     ]
    },
    {
     "data": {
      "application/vnd.jupyter.widget-view+json": {
       "model_id": "f598ec894c194be3b7f5693f21c7a95c",
       "version_major": 2,
       "version_minor": 0
      },
      "text/plain": [
       "  0%|          | 0/1 [00:00<?, ?it/s]"
      ]
     },
     "metadata": {},
     "output_type": "display_data"
    },
    {
     "name": "stderr",
     "output_type": "stream",
     "text": [
      "\r",
      "  0%|                                                                                                                                          | 0/1 [00:00<?, ?it/s]"
     ]
    }
   ],
   "source": [
    "for name, detector in detectors.items():\n",
    "    monthly_stats[f'{name}_p_value'] = monthly_stats.index.map(\n",
    "        lambda x: ks_scores_for_month(detectors[name], x)\n",
    "    )"
   ]
  },
  {
   "cell_type": "code",
   "execution_count": null,
   "id": "887e397a",
   "metadata": {},
   "outputs": [],
   "source": [
    "monthly_stats"
   ]
  },
  {
   "cell_type": "code",
   "execution_count": null,
   "id": "43fe56ef",
   "metadata": {
    "scrolled": false
   },
   "outputs": [],
   "source": [
    "monthly_stats[monthly_stats.index >= 3].filter(regex='p_value').plot(\n",
    "    kind='bar', figsize=(20, 10), title='Plotting Divergence'\n",
    ")"
   ]
  },
  {
   "cell_type": "code",
   "execution_count": null,
   "id": "d9bb9345",
   "metadata": {},
   "outputs": [],
   "source": []
  }
 ],
 "metadata": {
  "kernelspec": {
   "display_name": "Python 3 (ipykernel)",
   "language": "python",
   "name": "python3"
  },
  "language_info": {
   "codemirror_mode": {
    "name": "ipython",
    "version": 3
   },
   "file_extension": ".py",
   "mimetype": "text/x-python",
   "name": "python",
   "nbconvert_exporter": "python",
   "pygments_lexer": "ipython3",
   "version": "3.9.12"
  }
 },
 "nbformat": 4,
 "nbformat_minor": 5
}
