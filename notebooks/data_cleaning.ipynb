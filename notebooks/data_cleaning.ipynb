{
 "cells": [
  {
   "cell_type": "code",
   "execution_count": 1,
   "id": "a54932c6",
   "metadata": {},
   "outputs": [
    {
     "name": "stderr",
     "output_type": "stream",
     "text": [
      "NOTE: Redirects are currently not supported in Windows or MacOs.\n"
     ]
    }
   ],
   "source": [
    "from nlp import Dataset\n",
    "import pandas as pd\n",
    "import re\n",
    "from transformers import DistilBertForSequenceClassification, DistilBertTokenizerFast\n",
    "from torch.nn import Softmax\n",
    "from torch import tensor, where\n",
    "from torch.utils.data import DataLoader\n",
    "\n",
    "from random import seed\n",
    "\n",
    "seed(42)\n"
   ]
  },
  {
   "cell_type": "code",
   "execution_count": 2,
   "id": "02f8521e",
   "metadata": {},
   "outputs": [],
   "source": [
    "# read our tweet sample\n",
    "tweets = pd.read_csv('../data/cleaned_tweets.csv', encoding='ISO-8859-1')\n",
    "\n",
    "# convert the date to a datetime format\n",
    "tweets['date'] = pd.to_datetime(tweets['TweetAt']).astype('datetime64[ms]')\n",
    "\n",
    "# set our index as our datetime column and delete the date columns\n",
    "tweets.index = tweets['date']\n",
    "del tweets['date']\n",
    "\n",
    "# Sort our tweets\n",
    "tweets.sort_index(inplace=True)"
   ]
  },
  {
   "cell_type": "code",
   "execution_count": 3,
   "id": "1082aa1f",
   "metadata": {},
   "outputs": [],
   "source": [
    "# create an index that we can reference later\n",
    "tweets['index'] = range(tweets.shape[0])"
   ]
  },
  {
   "cell_type": "code",
   "execution_count": 4,
   "id": "a745f506",
   "metadata": {},
   "outputs": [
    {
     "data": {
      "text/html": [
       "<div>\n",
       "<style scoped>\n",
       "    .dataframe tbody tr th:only-of-type {\n",
       "        vertical-align: middle;\n",
       "    }\n",
       "\n",
       "    .dataframe tbody tr th {\n",
       "        vertical-align: top;\n",
       "    }\n",
       "\n",
       "    .dataframe thead th {\n",
       "        text-align: right;\n",
       "    }\n",
       "</style>\n",
       "<table border=\"1\" class=\"dataframe\">\n",
       "  <thead>\n",
       "    <tr style=\"text-align: right;\">\n",
       "      <th></th>\n",
       "      <th>UserName</th>\n",
       "      <th>ScreenName</th>\n",
       "      <th>Location</th>\n",
       "      <th>TweetAt</th>\n",
       "      <th>OriginalTweet</th>\n",
       "      <th>Sentiment</th>\n",
       "      <th>month</th>\n",
       "      <th>text</th>\n",
       "      <th>label</th>\n",
       "      <th>index</th>\n",
       "    </tr>\n",
       "    <tr>\n",
       "      <th>date</th>\n",
       "      <th></th>\n",
       "      <th></th>\n",
       "      <th></th>\n",
       "      <th></th>\n",
       "      <th></th>\n",
       "      <th></th>\n",
       "      <th></th>\n",
       "      <th></th>\n",
       "      <th></th>\n",
       "      <th></th>\n",
       "    </tr>\n",
       "  </thead>\n",
       "  <tbody>\n",
       "    <tr>\n",
       "      <th>2020-01-04</th>\n",
       "      <td>29309</td>\n",
       "      <td>74261</td>\n",
       "      <td>Tidal County, Knoxville, TN</td>\n",
       "      <td>01-04-2020</td>\n",
       "      <td>Overwhelmed with info Before you act stop Ask ...</td>\n",
       "      <td>Positive</td>\n",
       "      <td>1</td>\n",
       "      <td>Overwhelmed with info Before you act stop Ask ...</td>\n",
       "      <td>2</td>\n",
       "      <td>0</td>\n",
       "    </tr>\n",
       "    <tr>\n",
       "      <th>2020-01-04</th>\n",
       "      <td>29316</td>\n",
       "      <td>74268</td>\n",
       "      <td>Fort George G. Meade, Md.</td>\n",
       "      <td>01-04-2020</td>\n",
       "      <td>Malwarebytes rounded up some useful tips for s...</td>\n",
       "      <td>Extremely Positive</td>\n",
       "      <td>1</td>\n",
       "      <td>Malwarebytes rounded up some useful tips for s...</td>\n",
       "      <td>2</td>\n",
       "      <td>1</td>\n",
       "    </tr>\n",
       "    <tr>\n",
       "      <th>2020-01-04</th>\n",
       "      <td>29317</td>\n",
       "      <td>74269</td>\n",
       "      <td>Australia</td>\n",
       "      <td>01-04-2020</td>\n",
       "      <td>A Queensland mum has posted a heartbreaking pi...</td>\n",
       "      <td>Extremely Negative</td>\n",
       "      <td>1</td>\n",
       "      <td>A Queensland mum has posted a heartbreaking pi...</td>\n",
       "      <td>0</td>\n",
       "      <td>2</td>\n",
       "    </tr>\n",
       "    <tr>\n",
       "      <th>2020-01-04</th>\n",
       "      <td>29318</td>\n",
       "      <td>74270</td>\n",
       "      <td>Debt Jubilee</td>\n",
       "      <td>01-04-2020</td>\n",
       "      <td>New President Trump says U S gasoline prices w...</td>\n",
       "      <td>Neutral</td>\n",
       "      <td>1</td>\n",
       "      <td>New President Trump says U S gasoline prices w...</td>\n",
       "      <td>1</td>\n",
       "      <td>3</td>\n",
       "    </tr>\n",
       "    <tr>\n",
       "      <th>2020-01-04</th>\n",
       "      <td>29319</td>\n",
       "      <td>74271</td>\n",
       "      <td>??to Miami</td>\n",
       "      <td>01-04-2020</td>\n",
       "      <td>SUPERMARKET SAFETY is the latest grocery chain...</td>\n",
       "      <td>Extremely Positive</td>\n",
       "      <td>1</td>\n",
       "      <td>SUPERMARKET SAFETY is the latest grocery chain...</td>\n",
       "      <td>2</td>\n",
       "      <td>4</td>\n",
       "    </tr>\n",
       "    <tr>\n",
       "      <th>...</th>\n",
       "      <td>...</td>\n",
       "      <td>...</td>\n",
       "      <td>...</td>\n",
       "      <td>...</td>\n",
       "      <td>...</td>\n",
       "      <td>...</td>\n",
       "      <td>...</td>\n",
       "      <td>...</td>\n",
       "      <td>...</td>\n",
       "      <td>...</td>\n",
       "    </tr>\n",
       "    <tr>\n",
       "      <th>2020-12-04</th>\n",
       "      <td>42559</td>\n",
       "      <td>87511</td>\n",
       "      <td>U.S.A</td>\n",
       "      <td>12-04-2020</td>\n",
       "      <td>@CNN Pork prices will go up soon they close it...</td>\n",
       "      <td>Neutral</td>\n",
       "      <td>12</td>\n",
       "      <td>Pork prices will go up soon they close it. I g...</td>\n",
       "      <td>1</td>\n",
       "      <td>6837</td>\n",
       "    </tr>\n",
       "    <tr>\n",
       "      <th>2020-12-04</th>\n",
       "      <td>42556</td>\n",
       "      <td>87508</td>\n",
       "      <td>Nevada, USA</td>\n",
       "      <td>12-04-2020</td>\n",
       "      <td>Beware of scammers trying to sell fake vaccine...</td>\n",
       "      <td>Extremely Negative</td>\n",
       "      <td>12</td>\n",
       "      <td>Beware of scammers trying to sell fake vaccine...</td>\n",
       "      <td>0</td>\n",
       "      <td>6838</td>\n",
       "    </tr>\n",
       "    <tr>\n",
       "      <th>2020-12-04</th>\n",
       "      <td>42554</td>\n",
       "      <td>87506</td>\n",
       "      <td>Nabunturan, Davao Region</td>\n",
       "      <td>12-04-2020</td>\n",
       "      <td>Yesterday during the Black Saturday?..\\r\\r\\nat...</td>\n",
       "      <td>Neutral</td>\n",
       "      <td>12</td>\n",
       "      <td>Yesterday during the Black Saturday?..\\r\\r\\nat...</td>\n",
       "      <td>1</td>\n",
       "      <td>6839</td>\n",
       "    </tr>\n",
       "    <tr>\n",
       "      <th>2020-12-04</th>\n",
       "      <td>42574</td>\n",
       "      <td>87526</td>\n",
       "      <td>Berlin</td>\n",
       "      <td>12-04-2020</td>\n",
       "      <td>Confronting shows how far a infected person s...</td>\n",
       "      <td>Positive</td>\n",
       "      <td>12</td>\n",
       "      <td>Confronting shows how far a infected person s ...</td>\n",
       "      <td>2</td>\n",
       "      <td>6840</td>\n",
       "    </tr>\n",
       "    <tr>\n",
       "      <th>2020-12-04</th>\n",
       "      <td>42989</td>\n",
       "      <td>87941</td>\n",
       "      <td>Boston, MA</td>\n",
       "      <td>12-04-2020</td>\n",
       "      <td>Via @Forrester Navigate To The New Norm: Insig...</td>\n",
       "      <td>Neutral</td>\n",
       "      <td>12</td>\n",
       "      <td>Via  Navigate To The New Norm: Insights From F...</td>\n",
       "      <td>1</td>\n",
       "      <td>6841</td>\n",
       "    </tr>\n",
       "  </tbody>\n",
       "</table>\n",
       "<p>6842 rows × 10 columns</p>\n",
       "</div>"
      ],
      "text/plain": [
       "            UserName  ScreenName                     Location     TweetAt  \\\n",
       "date                                                                        \n",
       "2020-01-04     29309       74261  Tidal County, Knoxville, TN  01-04-2020   \n",
       "2020-01-04     29316       74268    Fort George G. Meade, Md.  01-04-2020   \n",
       "2020-01-04     29317       74269                    Australia  01-04-2020   \n",
       "2020-01-04     29318       74270                 Debt Jubilee  01-04-2020   \n",
       "2020-01-04     29319       74271                  ??to Miami   01-04-2020   \n",
       "...              ...         ...                          ...         ...   \n",
       "2020-12-04     42559       87511                        U.S.A  12-04-2020   \n",
       "2020-12-04     42556       87508                  Nevada, USA  12-04-2020   \n",
       "2020-12-04     42554       87506     Nabunturan, Davao Region  12-04-2020   \n",
       "2020-12-04     42574       87526                       Berlin  12-04-2020   \n",
       "2020-12-04     42989       87941                   Boston, MA  12-04-2020   \n",
       "\n",
       "                                                OriginalTweet  \\\n",
       "date                                                            \n",
       "2020-01-04  Overwhelmed with info Before you act stop Ask ...   \n",
       "2020-01-04  Malwarebytes rounded up some useful tips for s...   \n",
       "2020-01-04  A Queensland mum has posted a heartbreaking pi...   \n",
       "2020-01-04  New President Trump says U S gasoline prices w...   \n",
       "2020-01-04  SUPERMARKET SAFETY is the latest grocery chain...   \n",
       "...                                                       ...   \n",
       "2020-12-04  @CNN Pork prices will go up soon they close it...   \n",
       "2020-12-04  Beware of scammers trying to sell fake vaccine...   \n",
       "2020-12-04  Yesterday during the Black Saturday?..\\r\\r\\nat...   \n",
       "2020-12-04   Confronting shows how far a infected person s...   \n",
       "2020-12-04  Via @Forrester Navigate To The New Norm: Insig...   \n",
       "\n",
       "                     Sentiment  month  \\\n",
       "date                                    \n",
       "2020-01-04            Positive      1   \n",
       "2020-01-04  Extremely Positive      1   \n",
       "2020-01-04  Extremely Negative      1   \n",
       "2020-01-04             Neutral      1   \n",
       "2020-01-04  Extremely Positive      1   \n",
       "...                        ...    ...   \n",
       "2020-12-04             Neutral     12   \n",
       "2020-12-04  Extremely Negative     12   \n",
       "2020-12-04             Neutral     12   \n",
       "2020-12-04            Positive     12   \n",
       "2020-12-04             Neutral     12   \n",
       "\n",
       "                                                         text  label  index  \n",
       "date                                                                         \n",
       "2020-01-04  Overwhelmed with info Before you act stop Ask ...      2      0  \n",
       "2020-01-04  Malwarebytes rounded up some useful tips for s...      2      1  \n",
       "2020-01-04  A Queensland mum has posted a heartbreaking pi...      0      2  \n",
       "2020-01-04  New President Trump says U S gasoline prices w...      1      3  \n",
       "2020-01-04  SUPERMARKET SAFETY is the latest grocery chain...      2      4  \n",
       "...                                                       ...    ...    ...  \n",
       "2020-12-04  Pork prices will go up soon they close it. I g...      1   6837  \n",
       "2020-12-04  Beware of scammers trying to sell fake vaccine...      0   6838  \n",
       "2020-12-04  Yesterday during the Black Saturday?..\\r\\r\\nat...      1   6839  \n",
       "2020-12-04  Confronting shows how far a infected person s ...      2   6840  \n",
       "2020-12-04  Via  Navigate To The New Norm: Insights From F...      1   6841  \n",
       "\n",
       "[6842 rows x 10 columns]"
      ]
     },
     "execution_count": 4,
     "metadata": {},
     "output_type": "execute_result"
    }
   ],
   "source": [
    "tweets"
   ]
  },
  {
   "cell_type": "code",
   "execution_count": 5,
   "id": "4a87677f",
   "metadata": {
    "scrolled": true
   },
   "outputs": [],
   "source": [
    "# load up a pre-trained bert\n",
    "\n",
    "BERT_MODEL = 'distilbert-base-uncased'\n",
    "\n",
    "bert_tokenizer = DistilBertTokenizerFast.from_pretrained(BERT_MODEL)\n"
   ]
  },
  {
   "cell_type": "code",
   "execution_count": 6,
   "id": "067c327c",
   "metadata": {},
   "outputs": [],
   "source": [
    "# Grab the same training data as the model_drift notebook\n",
    "tweets = tweets[:'2020-03']"
   ]
  },
  {
   "cell_type": "code",
   "execution_count": 7,
   "id": "5f8f029e",
   "metadata": {
    "scrolled": true
   },
   "outputs": [
    {
     "data": {
      "application/vnd.jupyter.widget-view+json": {
       "model_id": "bf12c6dea5de45669f936cc444ff4036",
       "version_major": 2,
       "version_minor": 0
      },
      "text/plain": [
       "  0%|          | 0/2 [00:00<?, ?it/s]"
      ]
     },
     "metadata": {},
     "output_type": "display_data"
    },
    {
     "data": {
      "application/vnd.jupyter.widget-view+json": {
       "model_id": "d29f5517b57448a68164a39c00d95dee",
       "version_major": 2,
       "version_minor": 0
      },
      "text/plain": [
       "  0%|          | 0/1 [00:00<?, ?it/s]"
      ]
     },
     "metadata": {},
     "output_type": "display_data"
    }
   ],
   "source": [
    "# Create a Dataset\n",
    "tweet_dataset = Dataset.from_pandas(tweets.reset_index()[['text', 'label', 'index']])\n",
    "\n",
    "# Dataset has a built in train test split method\n",
    "tweet_dataset = tweet_dataset.train_test_split(test_size=0.2)\n",
    "\n",
    "train_set = tweet_dataset['train']\n",
    "test_set = tweet_dataset['test']"
   ]
  },
  {
   "cell_type": "code",
   "execution_count": 8,
   "id": "e62eeeaa",
   "metadata": {},
   "outputs": [
    {
     "data": {
      "application/vnd.jupyter.widget-view+json": {
       "model_id": "03fd14b7b1b74baa8ae757d159bab9dc",
       "version_major": 2,
       "version_minor": 0
      },
      "text/plain": [
       "  0%|          | 0/1 [00:00<?, ?it/s]"
      ]
     },
     "metadata": {},
     "output_type": "display_data"
    },
    {
     "data": {
      "application/vnd.jupyter.widget-view+json": {
       "model_id": "766d733e20f94f34bb6e0254c1ba9b69",
       "version_major": 2,
       "version_minor": 0
      },
      "text/plain": [
       "  0%|          | 0/1 [00:00<?, ?it/s]"
      ]
     },
     "metadata": {},
     "output_type": "display_data"
    }
   ],
   "source": [
    "# We will pad our dataset so that our input matrices are the same length\n",
    "def preprocess(data):\n",
    "    return bert_tokenizer(data['text'], padding=True, truncation=True, max_length=128)\n",
    "\n",
    "# map the preprocess function over the dataset\n",
    "train_set = train_set.map(preprocess, batched=True, batch_size=len(train_set))\n",
    "test_set = test_set.map(preprocess, batched=True, batch_size=len(test_set))\n",
    "\n",
    "train_set.set_format('torch', columns=['input_ids', 'attention_mask', 'label', 'index'])\n",
    "test_set.set_format('torch', columns=['input_ids', 'attention_mask', 'label', 'index'])"
   ]
  },
  {
   "cell_type": "code",
   "execution_count": 9,
   "id": "e99c98c4",
   "metadata": {
    "scrolled": true
   },
   "outputs": [
    {
     "name": "stderr",
     "output_type": "stream",
     "text": [
      "Some weights of the model checkpoint at distilbert-base-uncased were not used when initializing DistilBertForSequenceClassification: ['vocab_layer_norm.bias', 'vocab_projector.bias', 'vocab_projector.weight', 'vocab_transform.bias', 'vocab_layer_norm.weight', 'vocab_transform.weight']\n",
      "- This IS expected if you are initializing DistilBertForSequenceClassification from the checkpoint of a model trained on another task or with another architecture (e.g. initializing a BertForSequenceClassification model from a BertForPreTraining model).\n",
      "- This IS NOT expected if you are initializing DistilBertForSequenceClassification from the checkpoint of a model that you expect to be exactly identical (initializing a BertForSequenceClassification model from a BertForSequenceClassification model).\n",
      "Some weights of DistilBertForSequenceClassification were not initialized from the model checkpoint at distilbert-base-uncased and are newly initialized: ['classifier.bias', 'pre_classifier.weight', 'classifier.weight', 'pre_classifier.bias']\n",
      "You should probably TRAIN this model on a down-stream task to be able to use it for predictions and inference.\n"
     ]
    }
   ],
   "source": [
    "# Define a sequence classification model\n",
    "sequence_classification_model = DistilBertForSequenceClassification.from_pretrained(BERT_MODEL, num_labels=3)"
   ]
  },
  {
   "cell_type": "code",
   "execution_count": null,
   "id": "f29d19e4",
   "metadata": {},
   "outputs": [],
   "source": []
  },
  {
   "cell_type": "markdown",
   "id": "773a0e5b",
   "metadata": {},
   "source": [
    "![title](../images/aum.png)\n"
   ]
  },
  {
   "cell_type": "code",
   "execution_count": 10,
   "id": "96d0627b",
   "metadata": {},
   "outputs": [],
   "source": [
    "# https://github.com/asappresearch/aum\n",
    "from aum import AUMCalculator\n",
    "\n",
    "# Set a directory to save our results\n",
    "save_dir = './clean'\n",
    "# Setting compressed to False gives us information over several epochs\n",
    "aum_calculator = AUMCalculator(save_dir, compressed=False)"
   ]
  },
  {
   "cell_type": "code",
   "execution_count": null,
   "id": "ce093d2e",
   "metadata": {},
   "outputs": [],
   "source": []
  },
  {
   "cell_type": "code",
   "execution_count": 11,
   "id": "8222d777",
   "metadata": {},
   "outputs": [],
   "source": [
    "# We are going to define the training process without the training arguments"
   ]
  },
  {
   "cell_type": "code",
   "execution_count": 12,
   "id": "4db411e3",
   "metadata": {},
   "outputs": [
    {
     "name": "stderr",
     "output_type": "stream",
     "text": [
      "/opt/homebrew/lib/python3.9/site-packages/transformers/optimization.py:306: FutureWarning: This implementation of AdamW is deprecated and will be removed in a future version. Use the PyTorch implementation torch.optim.AdamW instead, or set `no_deprecation_warning=True` to disable this warning\n",
      "  warnings.warn(\n"
     ]
    }
   ],
   "source": [
    "from transformers import AdamW\n",
    "from transformers import get_scheduler\n",
    "\n",
    "# Define our optimizer. Nothing special here\n",
    "optimizer = AdamW(sequence_classification_model.parameters(), lr=5e-5)\n",
    "train_loader = DataLoader(train_set, batch_size=64, shuffle=False)\n",
    "\n",
    "# Train for 10 epochs to get as much data as possible\n",
    "num_epochs = 10\n",
    "# Set the number of training steps\n",
    "num_training_steps = num_epochs * len(train_loader)\n",
    "lr_scheduler = get_scheduler(\n",
    "    \"linear\",\n",
    "    optimizer=optimizer,\n",
    "    num_warmup_steps=0,\n",
    "    num_training_steps=num_training_steps\n",
    ")"
   ]
  },
  {
   "cell_type": "code",
   "execution_count": 13,
   "id": "1d3cc445",
   "metadata": {
    "scrolled": true
   },
   "outputs": [
    {
     "data": {
      "application/vnd.jupyter.widget-view+json": {
       "model_id": "5f5659ba5cbe40babaf1de959336d527",
       "version_major": 2,
       "version_minor": 0
      },
      "text/plain": [
       "  0%|          | 0/270 [00:00<?, ?it/s]"
      ]
     },
     "metadata": {},
     "output_type": "display_data"
    }
   ],
   "source": [
    "from tqdm.auto import tqdm\n",
    "\n",
    "progress_bar = tqdm(range(num_training_steps))\n",
    "\n",
    "# Set our model to training mode as opposed to .eval()\n",
    "sequence_classification_model.train()\n",
    "\n",
    "for epoch in range(num_epochs):\n",
    "    # For every epoch, iterate over batches of data\n",
    "    for batch in train_loader:\n",
    "        # pass the data into the model without the index column\n",
    "        _batch = {k: v for k, v in batch.items() if k not in ('index',)}\n",
    "        _batch['labels'] = _batch['label']  # not very effecient way to change the label name for the siamese network\n",
    "        del _batch['label']\n",
    "        outputs = sequence_classification_model(**_batch)\n",
    "        \n",
    "        # PyTorch training code\n",
    "        loss = outputs.loss\n",
    "        loss.backward()\n",
    "\n",
    "        optimizer.step()\n",
    "        lr_scheduler.step()\n",
    "        \n",
    "        # Update records in our AUM Calculator\n",
    "        records = aum_calculator.update(outputs.logits, batch['label'], batch['index'].tolist())\n",
    "        \n",
    "        optimizer.zero_grad()\n",
    "        progress_bar.update(1)"
   ]
  },
  {
   "cell_type": "code",
   "execution_count": 14,
   "id": "ccb6ac7b",
   "metadata": {},
   "outputs": [],
   "source": [
    "# Create the final csvs for analysis\n",
    "aum_calculator.finalize()"
   ]
  },
  {
   "cell_type": "code",
   "execution_count": 15,
   "id": "75dff6ee",
   "metadata": {},
   "outputs": [
    {
     "name": "stdout",
     "output_type": "stream",
     "text": [
      "(1725, 2)\n"
     ]
    },
    {
     "data": {
      "text/html": [
       "<div>\n",
       "<style scoped>\n",
       "    .dataframe tbody tr th:only-of-type {\n",
       "        vertical-align: middle;\n",
       "    }\n",
       "\n",
       "    .dataframe tbody tr th {\n",
       "        vertical-align: top;\n",
       "    }\n",
       "\n",
       "    .dataframe thead th {\n",
       "        text-align: right;\n",
       "    }\n",
       "</style>\n",
       "<table border=\"1\" class=\"dataframe\">\n",
       "  <thead>\n",
       "    <tr style=\"text-align: right;\">\n",
       "      <th></th>\n",
       "      <th>sample_id</th>\n",
       "      <th>aum</th>\n",
       "    </tr>\n",
       "  </thead>\n",
       "  <tbody>\n",
       "    <tr>\n",
       "      <th>0</th>\n",
       "      <td>2137</td>\n",
       "      <td>4.447078</td>\n",
       "    </tr>\n",
       "    <tr>\n",
       "      <th>1</th>\n",
       "      <td>1509</td>\n",
       "      <td>4.397057</td>\n",
       "    </tr>\n",
       "    <tr>\n",
       "      <th>2</th>\n",
       "      <td>1424</td>\n",
       "      <td>4.384803</td>\n",
       "    </tr>\n",
       "    <tr>\n",
       "      <th>3</th>\n",
       "      <td>776</td>\n",
       "      <td>4.371539</td>\n",
       "    </tr>\n",
       "    <tr>\n",
       "      <th>4</th>\n",
       "      <td>1325</td>\n",
       "      <td>4.365264</td>\n",
       "    </tr>\n",
       "  </tbody>\n",
       "</table>\n",
       "</div>"
      ],
      "text/plain": [
       "   sample_id       aum\n",
       "0       2137  4.447078\n",
       "1       1509  4.397057\n",
       "2       1424  4.384803\n",
       "3        776  4.371539\n",
       "4       1325  4.365264"
      ]
     },
     "execution_count": 15,
     "metadata": {},
     "output_type": "execute_result"
    }
   ],
   "source": [
    "# Read the compressed values\n",
    "# Lower values are meant to signify potentially mislabeled data\n",
    "# Higher values are meant to signify potentially properly labelled data\n",
    "aum_values = pd.read_csv('./clean/aum_values.csv')\n",
    "\n",
    "# one value per datapoint\n",
    "print(aum_values.shape)\n",
    "\n",
    "# Most likely to be labelled correctly\n",
    "aum_values.head()"
   ]
  },
  {
   "cell_type": "code",
   "execution_count": 16,
   "id": "f39d9ddf",
   "metadata": {},
   "outputs": [
    {
     "data": {
      "text/html": [
       "<div>\n",
       "<style scoped>\n",
       "    .dataframe tbody tr th:only-of-type {\n",
       "        vertical-align: middle;\n",
       "    }\n",
       "\n",
       "    .dataframe tbody tr th {\n",
       "        vertical-align: top;\n",
       "    }\n",
       "\n",
       "    .dataframe thead th {\n",
       "        text-align: right;\n",
       "    }\n",
       "</style>\n",
       "<table border=\"1\" class=\"dataframe\">\n",
       "  <thead>\n",
       "    <tr style=\"text-align: right;\">\n",
       "      <th></th>\n",
       "      <th>sample_id</th>\n",
       "      <th>aum</th>\n",
       "    </tr>\n",
       "  </thead>\n",
       "  <tbody>\n",
       "    <tr>\n",
       "      <th>1720</th>\n",
       "      <td>487</td>\n",
       "      <td>-2.087449</td>\n",
       "    </tr>\n",
       "    <tr>\n",
       "      <th>1721</th>\n",
       "      <td>1199</td>\n",
       "      <td>-2.205735</td>\n",
       "    </tr>\n",
       "    <tr>\n",
       "      <th>1722</th>\n",
       "      <td>521</td>\n",
       "      <td>-2.224037</td>\n",
       "    </tr>\n",
       "    <tr>\n",
       "      <th>1723</th>\n",
       "      <td>1360</td>\n",
       "      <td>-3.024507</td>\n",
       "    </tr>\n",
       "    <tr>\n",
       "      <th>1724</th>\n",
       "      <td>538</td>\n",
       "      <td>-4.197066</td>\n",
       "    </tr>\n",
       "  </tbody>\n",
       "</table>\n",
       "</div>"
      ],
      "text/plain": [
       "      sample_id       aum\n",
       "1720        487 -2.087449\n",
       "1721       1199 -2.205735\n",
       "1722        521 -2.224037\n",
       "1723       1360 -3.024507\n",
       "1724        538 -4.197066"
      ]
     },
     "execution_count": 16,
     "metadata": {},
     "output_type": "execute_result"
    }
   ],
   "source": [
    "# Most likely to be labelled incorrectly\n",
    "aum_values.tail()"
   ]
  },
  {
   "cell_type": "code",
   "execution_count": 17,
   "id": "48b3e43f",
   "metadata": {},
   "outputs": [
    {
     "name": "stdout",
     "output_type": "stream",
     "text": [
      "(17250, 8)\n"
     ]
    },
    {
     "data": {
      "text/html": [
       "<div>\n",
       "<style scoped>\n",
       "    .dataframe tbody tr th:only-of-type {\n",
       "        vertical-align: middle;\n",
       "    }\n",
       "\n",
       "    .dataframe tbody tr th {\n",
       "        vertical-align: top;\n",
       "    }\n",
       "\n",
       "    .dataframe thead th {\n",
       "        text-align: right;\n",
       "    }\n",
       "</style>\n",
       "<table border=\"1\" class=\"dataframe\">\n",
       "  <thead>\n",
       "    <tr style=\"text-align: right;\">\n",
       "      <th></th>\n",
       "      <th>sample_id</th>\n",
       "      <th>num_measurements</th>\n",
       "      <th>target_logit</th>\n",
       "      <th>target_val</th>\n",
       "      <th>other_logit</th>\n",
       "      <th>other_val</th>\n",
       "      <th>margin</th>\n",
       "      <th>aum</th>\n",
       "    </tr>\n",
       "  </thead>\n",
       "  <tbody>\n",
       "    <tr>\n",
       "      <th>0</th>\n",
       "      <td>0</td>\n",
       "      <td>1</td>\n",
       "      <td>2</td>\n",
       "      <td>0.662133</td>\n",
       "      <td>0</td>\n",
       "      <td>-0.159416</td>\n",
       "      <td>0.821549</td>\n",
       "      <td>0.821549</td>\n",
       "    </tr>\n",
       "    <tr>\n",
       "      <th>1</th>\n",
       "      <td>0</td>\n",
       "      <td>2</td>\n",
       "      <td>2</td>\n",
       "      <td>1.314468</td>\n",
       "      <td>0</td>\n",
       "      <td>-0.645438</td>\n",
       "      <td>1.959906</td>\n",
       "      <td>1.390728</td>\n",
       "    </tr>\n",
       "    <tr>\n",
       "      <th>2</th>\n",
       "      <td>0</td>\n",
       "      <td>3</td>\n",
       "      <td>2</td>\n",
       "      <td>0.538226</td>\n",
       "      <td>0</td>\n",
       "      <td>-0.196398</td>\n",
       "      <td>0.734624</td>\n",
       "      <td>1.172026</td>\n",
       "    </tr>\n",
       "    <tr>\n",
       "      <th>3</th>\n",
       "      <td>0</td>\n",
       "      <td>4</td>\n",
       "      <td>2</td>\n",
       "      <td>2.787665</td>\n",
       "      <td>0</td>\n",
       "      <td>-1.684234</td>\n",
       "      <td>4.471900</td>\n",
       "      <td>1.996995</td>\n",
       "    </tr>\n",
       "    <tr>\n",
       "      <th>4</th>\n",
       "      <td>0</td>\n",
       "      <td>5</td>\n",
       "      <td>2</td>\n",
       "      <td>2.925425</td>\n",
       "      <td>1</td>\n",
       "      <td>-1.958928</td>\n",
       "      <td>4.884353</td>\n",
       "      <td>2.574466</td>\n",
       "    </tr>\n",
       "  </tbody>\n",
       "</table>\n",
       "</div>"
      ],
      "text/plain": [
       "   sample_id  num_measurements  target_logit  target_val  other_logit  \\\n",
       "0          0                 1             2    0.662133            0   \n",
       "1          0                 2             2    1.314468            0   \n",
       "2          0                 3             2    0.538226            0   \n",
       "3          0                 4             2    2.787665            0   \n",
       "4          0                 5             2    2.925425            1   \n",
       "\n",
       "   other_val    margin       aum  \n",
       "0  -0.159416  0.821549  0.821549  \n",
       "1  -0.645438  1.959906  1.390728  \n",
       "2  -0.196398  0.734624  1.172026  \n",
       "3  -1.684234  4.471900  1.996995  \n",
       "4  -1.958928  4.884353  2.574466  "
      ]
     },
     "execution_count": 17,
     "metadata": {},
     "output_type": "execute_result"
    }
   ],
   "source": [
    "# Read the uncompressed values over all epochs. 10 values for each datapoint\n",
    "all_aum_records = pd.read_csv('./clean/full_aum_records.csv')\n",
    "print(all_aum_records.shape)\n",
    "all_aum_records.head()"
   ]
  },
  {
   "cell_type": "code",
   "execution_count": null,
   "id": "3b5d3aeb",
   "metadata": {},
   "outputs": [],
   "source": []
  },
  {
   "cell_type": "code",
   "execution_count": 18,
   "id": "37384089",
   "metadata": {},
   "outputs": [
    {
     "name": "stdout",
     "output_type": "stream",
     "text": [
      "1424\n"
     ]
    },
    {
     "data": {
      "text/html": [
       "<div>\n",
       "<style scoped>\n",
       "    .dataframe tbody tr th:only-of-type {\n",
       "        vertical-align: middle;\n",
       "    }\n",
       "\n",
       "    .dataframe tbody tr th {\n",
       "        vertical-align: top;\n",
       "    }\n",
       "\n",
       "    .dataframe thead th {\n",
       "        text-align: right;\n",
       "    }\n",
       "</style>\n",
       "<table border=\"1\" class=\"dataframe\">\n",
       "  <thead>\n",
       "    <tr style=\"text-align: right;\">\n",
       "      <th></th>\n",
       "      <th>sample_id</th>\n",
       "      <th>num_measurements</th>\n",
       "      <th>target_logit</th>\n",
       "      <th>target_val</th>\n",
       "      <th>other_logit</th>\n",
       "      <th>other_val</th>\n",
       "      <th>margin</th>\n",
       "      <th>aum</th>\n",
       "    </tr>\n",
       "  </thead>\n",
       "  <tbody>\n",
       "    <tr>\n",
       "      <th>11290</th>\n",
       "      <td>1424</td>\n",
       "      <td>1</td>\n",
       "      <td>2</td>\n",
       "      <td>0.677075</td>\n",
       "      <td>0</td>\n",
       "      <td>-0.366830</td>\n",
       "      <td>1.043905</td>\n",
       "      <td>1.043905</td>\n",
       "    </tr>\n",
       "    <tr>\n",
       "      <th>11291</th>\n",
       "      <td>1424</td>\n",
       "      <td>2</td>\n",
       "      <td>2</td>\n",
       "      <td>1.694427</td>\n",
       "      <td>1</td>\n",
       "      <td>-0.995400</td>\n",
       "      <td>2.689827</td>\n",
       "      <td>1.866866</td>\n",
       "    </tr>\n",
       "    <tr>\n",
       "      <th>11292</th>\n",
       "      <td>1424</td>\n",
       "      <td>3</td>\n",
       "      <td>2</td>\n",
       "      <td>2.398039</td>\n",
       "      <td>0</td>\n",
       "      <td>-1.588572</td>\n",
       "      <td>3.986611</td>\n",
       "      <td>2.573448</td>\n",
       "    </tr>\n",
       "    <tr>\n",
       "      <th>11293</th>\n",
       "      <td>1424</td>\n",
       "      <td>4</td>\n",
       "      <td>2</td>\n",
       "      <td>2.629948</td>\n",
       "      <td>0</td>\n",
       "      <td>-1.566999</td>\n",
       "      <td>4.196947</td>\n",
       "      <td>2.979323</td>\n",
       "    </tr>\n",
       "    <tr>\n",
       "      <th>11294</th>\n",
       "      <td>1424</td>\n",
       "      <td>5</td>\n",
       "      <td>2</td>\n",
       "      <td>2.643132</td>\n",
       "      <td>0</td>\n",
       "      <td>-1.654809</td>\n",
       "      <td>4.297941</td>\n",
       "      <td>3.243046</td>\n",
       "    </tr>\n",
       "    <tr>\n",
       "      <th>11295</th>\n",
       "      <td>1424</td>\n",
       "      <td>6</td>\n",
       "      <td>2</td>\n",
       "      <td>3.249531</td>\n",
       "      <td>1</td>\n",
       "      <td>-1.827887</td>\n",
       "      <td>5.077417</td>\n",
       "      <td>3.548775</td>\n",
       "    </tr>\n",
       "    <tr>\n",
       "      <th>11296</th>\n",
       "      <td>1424</td>\n",
       "      <td>7</td>\n",
       "      <td>2</td>\n",
       "      <td>3.332791</td>\n",
       "      <td>0</td>\n",
       "      <td>-1.958996</td>\n",
       "      <td>5.291787</td>\n",
       "      <td>3.797776</td>\n",
       "    </tr>\n",
       "    <tr>\n",
       "      <th>11297</th>\n",
       "      <td>1424</td>\n",
       "      <td>8</td>\n",
       "      <td>2</td>\n",
       "      <td>3.653744</td>\n",
       "      <td>0</td>\n",
       "      <td>-1.912037</td>\n",
       "      <td>5.565781</td>\n",
       "      <td>4.018777</td>\n",
       "    </tr>\n",
       "    <tr>\n",
       "      <th>11298</th>\n",
       "      <td>1424</td>\n",
       "      <td>9</td>\n",
       "      <td>2</td>\n",
       "      <td>3.770068</td>\n",
       "      <td>0</td>\n",
       "      <td>-2.237985</td>\n",
       "      <td>6.008053</td>\n",
       "      <td>4.239808</td>\n",
       "    </tr>\n",
       "    <tr>\n",
       "      <th>11299</th>\n",
       "      <td>1424</td>\n",
       "      <td>10</td>\n",
       "      <td>2</td>\n",
       "      <td>3.623255</td>\n",
       "      <td>0</td>\n",
       "      <td>-2.066504</td>\n",
       "      <td>5.689760</td>\n",
       "      <td>4.384803</td>\n",
       "    </tr>\n",
       "  </tbody>\n",
       "</table>\n",
       "</div>"
      ],
      "text/plain": [
       "       sample_id  num_measurements  target_logit  target_val  other_logit  \\\n",
       "11290       1424                 1             2    0.677075            0   \n",
       "11291       1424                 2             2    1.694427            1   \n",
       "11292       1424                 3             2    2.398039            0   \n",
       "11293       1424                 4             2    2.629948            0   \n",
       "11294       1424                 5             2    2.643132            0   \n",
       "11295       1424                 6             2    3.249531            1   \n",
       "11296       1424                 7             2    3.332791            0   \n",
       "11297       1424                 8             2    3.653744            0   \n",
       "11298       1424                 9             2    3.770068            0   \n",
       "11299       1424                10             2    3.623255            0   \n",
       "\n",
       "       other_val    margin       aum  \n",
       "11290  -0.366830  1.043905  1.043905  \n",
       "11291  -0.995400  2.689827  1.866866  \n",
       "11292  -1.588572  3.986611  2.573448  \n",
       "11293  -1.566999  4.196947  2.979323  \n",
       "11294  -1.654809  4.297941  3.243046  \n",
       "11295  -1.827887  5.077417  3.548775  \n",
       "11296  -1.958996  5.291787  3.797776  \n",
       "11297  -1.912037  5.565781  4.018777  \n",
       "11298  -2.237985  6.008053  4.239808  \n",
       "11299  -2.066504  5.689760  4.384803  "
      ]
     },
     "execution_count": 18,
     "metadata": {},
     "output_type": "execute_result"
    }
   ],
   "source": [
    "# the highest AUM\n",
    "highest_sample_aum = int(aum_values.iloc[2].sample_id)\n",
    "\n",
    "print(highest_sample_aum)\n",
    "\n",
    "all_aum_records[all_aum_records['sample_id'] == highest_sample_aum]"
   ]
  },
  {
   "cell_type": "code",
   "execution_count": 19,
   "id": "f06da76e",
   "metadata": {},
   "outputs": [
    {
     "data": {
      "text/plain": [
       "<AxesSubplot:title={'center':'Sample 1424'}>"
      ]
     },
     "execution_count": 19,
     "metadata": {},
     "output_type": "execute_result"
    },
    {
     "data": {
      "image/png": "[encoded data removed]",
      "text/plain": [
       "<Figure size 432x288 with 1 Axes>"
      ]
     },
     "metadata": {
      "needs_background": "light"
     },
     "output_type": "display_data"
    }
   ],
   "source": [
    "# Plotting the Logit difference between the intended label and the next highest label.\n",
    "# The target logit is MUCH larger than the next logit which is ideal\n",
    "all_aum_records[all_aum_records['sample_id'] == highest_sample_aum][['target_val', 'other_val']].plot(\n",
    "    title=f'Sample {highest_sample_aum}'\n",
    ")"
   ]
  },
  {
   "cell_type": "code",
   "execution_count": 20,
   "id": "ca5f92ec",
   "metadata": {},
   "outputs": [
    {
     "name": "stdout",
     "output_type": "stream",
     "text": [
      "Can I have 12 mins of your time to PLEASE LISTEN to this interview as IT'S SO IMPORTANT can my followers RT. url\n",
      "Extremely Positive\n"
     ]
    }
   ],
   "source": [
    "high_tweet = tweets.iloc[highest_sample_aum]\n",
    "\n",
    "print(high_tweet['text'])\n",
    "print(high_tweet['Sentiment'])"
   ]
  },
  {
   "cell_type": "code",
   "execution_count": null,
   "id": "9d1cbbf7",
   "metadata": {},
   "outputs": [],
   "source": []
  },
  {
   "cell_type": "code",
   "execution_count": null,
   "id": "c038cf70",
   "metadata": {},
   "outputs": [],
   "source": []
  },
  {
   "cell_type": "code",
   "execution_count": 21,
   "id": "5d4c53aa",
   "metadata": {},
   "outputs": [
    {
     "name": "stdout",
     "output_type": "stream",
     "text": [
      "538\n"
     ]
    },
    {
     "data": {
      "text/html": [
       "<div>\n",
       "<style scoped>\n",
       "    .dataframe tbody tr th:only-of-type {\n",
       "        vertical-align: middle;\n",
       "    }\n",
       "\n",
       "    .dataframe tbody tr th {\n",
       "        vertical-align: top;\n",
       "    }\n",
       "\n",
       "    .dataframe thead th {\n",
       "        text-align: right;\n",
       "    }\n",
       "</style>\n",
       "<table border=\"1\" class=\"dataframe\">\n",
       "  <thead>\n",
       "    <tr style=\"text-align: right;\">\n",
       "      <th></th>\n",
       "      <th>sample_id</th>\n",
       "      <th>num_measurements</th>\n",
       "      <th>target_logit</th>\n",
       "      <th>target_val</th>\n",
       "      <th>other_logit</th>\n",
       "      <th>other_val</th>\n",
       "      <th>margin</th>\n",
       "      <th>aum</th>\n",
       "    </tr>\n",
       "  </thead>\n",
       "  <tbody>\n",
       "    <tr>\n",
       "      <th>4340</th>\n",
       "      <td>538</td>\n",
       "      <td>1</td>\n",
       "      <td>1</td>\n",
       "      <td>-0.412970</td>\n",
       "      <td>0</td>\n",
       "      <td>0.285251</td>\n",
       "      <td>-0.698221</td>\n",
       "      <td>-0.698221</td>\n",
       "    </tr>\n",
       "    <tr>\n",
       "      <th>4341</th>\n",
       "      <td>538</td>\n",
       "      <td>2</td>\n",
       "      <td>1</td>\n",
       "      <td>-0.978593</td>\n",
       "      <td>0</td>\n",
       "      <td>0.689916</td>\n",
       "      <td>-1.668509</td>\n",
       "      <td>-1.183365</td>\n",
       "    </tr>\n",
       "    <tr>\n",
       "      <th>4342</th>\n",
       "      <td>538</td>\n",
       "      <td>3</td>\n",
       "      <td>1</td>\n",
       "      <td>-1.310608</td>\n",
       "      <td>2</td>\n",
       "      <td>1.859678</td>\n",
       "      <td>-3.170286</td>\n",
       "      <td>-1.845672</td>\n",
       "    </tr>\n",
       "    <tr>\n",
       "      <th>4343</th>\n",
       "      <td>538</td>\n",
       "      <td>4</td>\n",
       "      <td>1</td>\n",
       "      <td>-1.901340</td>\n",
       "      <td>2</td>\n",
       "      <td>2.918876</td>\n",
       "      <td>-4.820215</td>\n",
       "      <td>-2.589308</td>\n",
       "    </tr>\n",
       "    <tr>\n",
       "      <th>4344</th>\n",
       "      <td>538</td>\n",
       "      <td>5</td>\n",
       "      <td>1</td>\n",
       "      <td>-2.137454</td>\n",
       "      <td>2</td>\n",
       "      <td>2.958105</td>\n",
       "      <td>-5.095560</td>\n",
       "      <td>-3.090558</td>\n",
       "    </tr>\n",
       "    <tr>\n",
       "      <th>4345</th>\n",
       "      <td>538</td>\n",
       "      <td>6</td>\n",
       "      <td>1</td>\n",
       "      <td>-1.909854</td>\n",
       "      <td>2</td>\n",
       "      <td>3.145170</td>\n",
       "      <td>-5.055024</td>\n",
       "      <td>-3.417969</td>\n",
       "    </tr>\n",
       "    <tr>\n",
       "      <th>4346</th>\n",
       "      <td>538</td>\n",
       "      <td>7</td>\n",
       "      <td>1</td>\n",
       "      <td>-2.203417</td>\n",
       "      <td>2</td>\n",
       "      <td>3.149300</td>\n",
       "      <td>-5.352717</td>\n",
       "      <td>-3.694362</td>\n",
       "    </tr>\n",
       "    <tr>\n",
       "      <th>4347</th>\n",
       "      <td>538</td>\n",
       "      <td>8</td>\n",
       "      <td>1</td>\n",
       "      <td>-2.109393</td>\n",
       "      <td>2</td>\n",
       "      <td>3.141662</td>\n",
       "      <td>-5.251055</td>\n",
       "      <td>-3.888948</td>\n",
       "    </tr>\n",
       "    <tr>\n",
       "      <th>4348</th>\n",
       "      <td>538</td>\n",
       "      <td>9</td>\n",
       "      <td>1</td>\n",
       "      <td>-1.937160</td>\n",
       "      <td>2</td>\n",
       "      <td>3.225335</td>\n",
       "      <td>-5.162496</td>\n",
       "      <td>-4.030454</td>\n",
       "    </tr>\n",
       "    <tr>\n",
       "      <th>4349</th>\n",
       "      <td>538</td>\n",
       "      <td>10</td>\n",
       "      <td>1</td>\n",
       "      <td>-2.240406</td>\n",
       "      <td>2</td>\n",
       "      <td>3.456172</td>\n",
       "      <td>-5.696578</td>\n",
       "      <td>-4.197066</td>\n",
       "    </tr>\n",
       "  </tbody>\n",
       "</table>\n",
       "</div>"
      ],
      "text/plain": [
       "      sample_id  num_measurements  target_logit  target_val  other_logit  \\\n",
       "4340        538                 1             1   -0.412970            0   \n",
       "4341        538                 2             1   -0.978593            0   \n",
       "4342        538                 3             1   -1.310608            2   \n",
       "4343        538                 4             1   -1.901340            2   \n",
       "4344        538                 5             1   -2.137454            2   \n",
       "4345        538                 6             1   -1.909854            2   \n",
       "4346        538                 7             1   -2.203417            2   \n",
       "4347        538                 8             1   -2.109393            2   \n",
       "4348        538                 9             1   -1.937160            2   \n",
       "4349        538                10             1   -2.240406            2   \n",
       "\n",
       "      other_val    margin       aum  \n",
       "4340   0.285251 -0.698221 -0.698221  \n",
       "4341   0.689916 -1.668509 -1.183365  \n",
       "4342   1.859678 -3.170286 -1.845672  \n",
       "4343   2.918876 -4.820215 -2.589308  \n",
       "4344   2.958105 -5.095560 -3.090558  \n",
       "4345   3.145170 -5.055024 -3.417969  \n",
       "4346   3.149300 -5.352717 -3.694362  \n",
       "4347   3.141662 -5.251055 -3.888948  \n",
       "4348   3.225335 -5.162496 -4.030454  \n",
       "4349   3.456172 -5.696578 -4.197066  "
      ]
     },
     "execution_count": 21,
     "metadata": {},
     "output_type": "execute_result"
    }
   ],
   "source": [
    "# the lowest AUM\n",
    "lowest_sample_aum = int(aum_values.iloc[-1].sample_id)\n",
    "\n",
    "print(lowest_sample_aum)\n",
    "\n",
    "all_aum_records[all_aum_records['sample_id'] == lowest_sample_aum]"
   ]
  },
  {
   "cell_type": "code",
   "execution_count": 22,
   "id": "0cca145c",
   "metadata": {},
   "outputs": [
    {
     "data": {
      "text/plain": [
       "<AxesSubplot:title={'center':'Sample 538'}>"
      ]
     },
     "execution_count": 22,
     "metadata": {},
     "output_type": "execute_result"
    },
    {
     "data": {
      "image/png": "[encoded data removed]",
      "text/plain": [
       "<Figure size 432x288 with 1 Axes>"
      ]
     },
     "metadata": {
      "needs_background": "light"
     },
     "output_type": "display_data"
    }
   ],
   "source": [
    "# Plotting the Logit difference between the intended label and the next highest label.\n",
    "# The next logit is MUCH larger than the target logit which is not ideal\n",
    "all_aum_records[all_aum_records['sample_id'] == lowest_sample_aum][['target_val', 'other_val']].plot(\n",
    "    title=f'Sample {lowest_sample_aum}'\n",
    ")\n"
   ]
  },
  {
   "cell_type": "code",
   "execution_count": 23,
   "id": "9dda8bf5",
   "metadata": {},
   "outputs": [
    {
     "name": "stdout",
     "output_type": "stream",
     "text": [
      "very nice of you not to ask compensation from for causing the SARS virus caused by their overdirty food markets BUT HOW ABOUT this   Demand\n",
      "Neutral\n"
     ]
    }
   ],
   "source": [
    "low_tweet = tweets.iloc[lowest_sample_aum]\n",
    "\n",
    "print(low_tweet['text'])\n",
    "print(low_tweet['Sentiment'])"
   ]
  },
  {
   "cell_type": "code",
   "execution_count": null,
   "id": "855a3c54",
   "metadata": {},
   "outputs": [],
   "source": []
  },
  {
   "cell_type": "code",
   "execution_count": null,
   "id": "ce01bb8e",
   "metadata": {},
   "outputs": [],
   "source": []
  },
  {
   "cell_type": "markdown",
   "id": "aa9f2331",
   "metadata": {},
   "source": [
    "## Using cosine similarity to find confusing phrases"
   ]
  },
  {
   "cell_type": "code",
   "execution_count": null,
   "id": "752c2019",
   "metadata": {},
   "outputs": [],
   "source": []
  },
  {
   "cell_type": "markdown",
   "id": "1214f51a",
   "metadata": {},
   "source": [
    "<img src='https://www.sbert.net/_images/SBERT_Siamese_Network1.png'>"
   ]
  },
  {
   "cell_type": "code",
   "execution_count": 24,
   "id": "fbee04bb",
   "metadata": {},
   "outputs": [
    {
     "name": "stderr",
     "output_type": "stream",
     "text": [
      "/opt/homebrew/lib/python3.9/site-packages/huggingface_hub/snapshot_download.py:6: FutureWarning: snapshot_download.py has been made private and will no longer be available from version 0.11. Please use `from huggingface_hub import snapshot_download` to import the only public function in this module. Other members of the file may be changed without a deprecation notice.\n",
      "  warnings.warn(\n",
      "/opt/homebrew/lib/python3.9/site-packages/huggingface_hub/file_download.py:588: FutureWarning: `cached_download` is the legacy way to download files from the HF hub, please consider upgrading to `hf_hub_download`\n",
      "  warnings.warn(\n"
     ]
    }
   ],
   "source": [
    "# https://www.sbert.net/docs/usage/semantic_textual_similarity.html\n",
    "\n",
    "from sentence_transformers import SentenceTransformer, util\n",
    "# Use a pre-trained model specifically for symmetric semantic text similarity\n",
    "model = SentenceTransformer('all-MiniLM-L6-v2')"
   ]
  },
  {
   "cell_type": "code",
   "execution_count": 25,
   "id": "634a701e",
   "metadata": {
    "scrolled": true
   },
   "outputs": [],
   "source": [
    "# Embed all tweets into a vector space\n",
    "embeddings = model.encode(tweets['text'].tolist(), convert_to_tensor=True)"
   ]
  },
  {
   "cell_type": "code",
   "execution_count": 26,
   "id": "e5ab3d89",
   "metadata": {},
   "outputs": [],
   "source": [
    "# Calculate cosine similarity for each pair and set a threshold (higher is more semantically similar)\n",
    "cosine_scores = util.pytorch_cos_sim(embeddings, embeddings)\n",
    "\n",
    "COSINE_THRESHOLD = 0.9"
   ]
  },
  {
   "cell_type": "code",
   "execution_count": 27,
   "id": "b89676e3",
   "metadata": {
    "scrolled": true
   },
   "outputs": [
    {
     "name": "stdout",
     "output_type": "stream",
     "text": [
      "175 250 [['Covid-19 #heroes: Ã\\x82Â\\x91The #pub may be closed but that doesnÃ\\x82Â\\x92t mean we canÃ\\x82Â\\x92t help peopleÃ\\x82Â\\x92 https://t.co/RJCkmLDVt5 #coronavirus'\n",
      "  'Positive']\n",
      " ['Covid-19 heroes: Ã\\x82Â\\x91The pub may be closed but that doesnÃ\\x82Â\\x92t mean we canÃ\\x82Â\\x92t help peopleÃ\\x82Â\\x92\\r\\r\\nhttps://t.co/mpq8VYPrcT #coronavirus positive mindset'\n",
      "  'Extremely Positive']]\n",
      "--------\n",
      "229 440 [[\"'A Perfect Storm': U.S. Facing Hunger Crisis as Demand for Food Banks Soars https://t.co/wpA6p2XLU7 @theguardian #coronavirus #COVID19 #foodinsecurity\"\n",
      "  'Negative']\n",
      " [\"'A perfect storm': US facing #hunger #crisis as demand for #foodbanks soars | Environment | The Guardian #ados #pandemic #coronavirus  https://t.co/JboPvSFgLZ\"\n",
      "  'Positive']]\n",
      "--------\n",
      "250 175 [['Covid-19 #heroes: Ã\\x82Â\\x91The #pub may be closed but that doesnÃ\\x82Â\\x92t mean we canÃ\\x82Â\\x92t help peopleÃ\\x82Â\\x92 https://t.co/RJCkmLDVt5 #coronavirus'\n",
      "  'Positive']\n",
      " ['Covid-19 heroes: Ã\\x82Â\\x91The pub may be closed but that doesnÃ\\x82Â\\x92t mean we canÃ\\x82Â\\x92t help peopleÃ\\x82Â\\x92\\r\\r\\nhttps://t.co/mpq8VYPrcT #coronavirus positive mindset'\n",
      "  'Extremely Positive']]\n",
      "--------\n",
      "440 229 [[\"'A Perfect Storm': U.S. Facing Hunger Crisis as Demand for Food Banks Soars https://t.co/wpA6p2XLU7 @theguardian #coronavirus #COVID19 #foodinsecurity\"\n",
      "  'Negative']\n",
      " [\"'A perfect storm': US facing #hunger #crisis as demand for #foodbanks soars | Environment | The Guardian #ados #pandemic #coronavirus  https://t.co/JboPvSFgLZ\"\n",
      "  'Positive']]\n",
      "--------\n",
      "527 574 [['The world could soon run out of space to store #oil. That may plunge prices below zero. This is not good.\\r\\r\\n#COVID19 #coronavirus #reality \\r\\r\\nhttps://t.co/2eM7GBfMzG'\n",
      "  'Negative']\n",
      " ['The world could soon run out of space to store oil. That may plunge prices below zero. - Experts\\r\\r\\n\\r\\r\\n#Oil / #Petrol prices down amid #Coronavirus crisis #COVID?19'\n",
      "  'Extremely Negative']]\n",
      "--------\n",
      "574 527 [['The world could soon run out of space to store #oil. That may plunge prices below zero. This is not good.\\r\\r\\n#COVID19 #coronavirus #reality \\r\\r\\nhttps://t.co/2eM7GBfMzG'\n",
      "  'Negative']\n",
      " ['The world could soon run out of space to store oil. That may plunge prices below zero. - Experts\\r\\r\\n\\r\\r\\n#Oil / #Petrol prices down amid #Coronavirus crisis #COVID?19'\n",
      "  'Extremely Negative']]\n",
      "--------\n",
      "580 617 [['Grandparent scams in the age of #Coronavirus https://t.co/zjyipJ6N0z'\n",
      "  'Negative']\n",
      " ['BE AWARE!! Grandparent #scams in the age of #Coronavirus https://t.co/fJ45w4A6Yr'\n",
      "  'Neutral']]\n",
      "--------\n",
      "598 1427 [['COVID-19 got my online shopping going crazy...' 'Negative']\n",
      " ['COVID-19 got me online shopping spree' 'Neutral']]\n",
      "--------\n",
      "617 580 [['Grandparent scams in the age of #Coronavirus https://t.co/zjyipJ6N0z'\n",
      "  'Negative']\n",
      " ['BE AWARE!! Grandparent #scams in the age of #Coronavirus https://t.co/fJ45w4A6Yr'\n",
      "  'Neutral']]\n",
      "--------\n",
      "1040 1543 [['Need toilet paper Police officers handed out toilet paper rolls at a Sydney supermarket to try to calm panic buying shoppers during the epidemic'\n",
      "  'Negative']\n",
      " ['Police officers handed out rolls of toilet paper at a Sydney supermarket on Thursday to try to calm shoppers down during the outbreak in Australia'\n",
      "  'Positive']]\n",
      "--------\n"
     ]
    }
   ],
   "source": [
    "# Highlight pairs of tweets that are semantically similar but have different labels\n",
    "index1, index2 = where(cosine_scores >= COSINE_THRESHOLD)\n",
    "pairs_to_consider = list(zip(index1.tolist(), index2.tolist()))\n",
    "for i1, i2 in pairs_to_consider[:len(pairs_to_consider)//2]:\n",
    "    if i1 != i2:\n",
    "        samples = tweets[tweets['index'].isin([i1, i2])]\n",
    "        if samples['Sentiment'].nunique() > 1:\n",
    "            print(i1, i2, samples[['OriginalTweet', 'Sentiment']].values)\n",
    "            print('--------')"
   ]
  },
  {
   "cell_type": "markdown",
   "id": "eda57df0",
   "metadata": {},
   "source": [
    "# Highlighting a particular pair \n",
    "\n",
    "```\n",
    "1040 [['Need toilet paper Police officers handed out toilet paper rolls at a Sydney supermarket to try to calm panic buying shoppers during the epidemic'\n",
    "  'Negative']\n",
    "  \n",
    "1543 ['Police officers handed out rolls of toilet paper at a Sydney supermarket on Thursday to try to calm shoppers down during the outbreak in Australia'\n",
    "  'Positive']]\n",
    "```"
   ]
  },
  {
   "cell_type": "code",
   "execution_count": 28,
   "id": "b5fd6e26",
   "metadata": {},
   "outputs": [
    {
     "data": {
      "text/html": [
       "<div>\n",
       "<style scoped>\n",
       "    .dataframe tbody tr th:only-of-type {\n",
       "        vertical-align: middle;\n",
       "    }\n",
       "\n",
       "    .dataframe tbody tr th {\n",
       "        vertical-align: top;\n",
       "    }\n",
       "\n",
       "    .dataframe thead th {\n",
       "        text-align: right;\n",
       "    }\n",
       "</style>\n",
       "<table border=\"1\" class=\"dataframe\">\n",
       "  <thead>\n",
       "    <tr style=\"text-align: right;\">\n",
       "      <th></th>\n",
       "      <th>sample_id</th>\n",
       "      <th>aum</th>\n",
       "    </tr>\n",
       "  </thead>\n",
       "  <tbody>\n",
       "    <tr>\n",
       "      <th>1110</th>\n",
       "      <td>1040</td>\n",
       "      <td>2.992025</td>\n",
       "    </tr>\n",
       "    <tr>\n",
       "      <th>1252</th>\n",
       "      <td>1543</td>\n",
       "      <td>2.809136</td>\n",
       "    </tr>\n",
       "  </tbody>\n",
       "</table>\n",
       "</div>"
      ],
      "text/plain": [
       "      sample_id       aum\n",
       "1110       1040  2.992025\n",
       "1252       1543  2.809136"
      ]
     },
     "execution_count": 28,
     "metadata": {},
     "output_type": "execute_result"
    }
   ],
   "source": [
    "# AUM says they are both fairly fine\n",
    "aum_values[aum_values['sample_id'].isin((1040, 1543))]"
   ]
  },
  {
   "cell_type": "code",
   "execution_count": 29,
   "id": "9f2553b6",
   "metadata": {},
   "outputs": [
    {
     "data": {
      "text/plain": [
       "count    1725.000000\n",
       "mean        3.052935\n",
       "std         0.904384\n",
       "min        -4.197066\n",
       "25%         2.745528\n",
       "50%         3.254186\n",
       "75%         3.617598\n",
       "max         4.447078\n",
       "Name: aum, dtype: float64"
      ]
     },
     "execution_count": 29,
     "metadata": {},
     "output_type": "execute_result"
    }
   ],
   "source": [
    "aum_values['aum'].describe()  # AUM values are low but not crazy low"
   ]
  },
  {
   "cell_type": "code",
   "execution_count": null,
   "id": "dca10ac3",
   "metadata": {},
   "outputs": [],
   "source": []
  },
  {
   "cell_type": "code",
   "execution_count": 30,
   "id": "fb7bff0b",
   "metadata": {},
   "outputs": [],
   "source": [
    "URL_REGEX = re.compile('http(s)?:\\/\\/t.co\\/\\w+')\n",
    "MENTION_REGEX = re.compile('@\\w+')\n",
    "def clean_tweet(tweet):\n",
    "    # remove mentions, the pound sign, and replace urls with URL token\n",
    "    tweet = re.sub(URL_REGEX, 'url', tweet)  # replace urls with url. Assumes that the mention of a url is significant\n",
    "    tweet = re.sub(MENTION_REGEX, '', tweet)  # remove mentions entirely\n",
    "    tweet = tweet.replace('#', '')  # remove pound signs\n",
    "    \n",
    "    return tweet.strip()"
   ]
  },
  {
   "cell_type": "code",
   "execution_count": 31,
   "id": "3a00efce",
   "metadata": {
    "scrolled": true
   },
   "outputs": [
    {
     "name": "stderr",
     "output_type": "stream",
     "text": [
      "/var/folders/y9/9xqbqkg90tnc0cmm0dxt985m0000gn/T/ipykernel_66288/2031185257.py:2: UserWarning: Implicit dimension choice for softmax has been deprecated. Change the call to include dim=X as an argument.\n",
      "  Softmax()(sequence_classification_model(**bert_tokenizer(\n"
     ]
    },
    {
     "data": {
      "text/plain": [
       "tensor([[0.9860, 0.0062, 0.0078]], grad_fn=<SoftmaxBackward0>)"
      ]
     },
     "execution_count": 31,
     "metadata": {},
     "output_type": "execute_result"
    }
   ],
   "source": [
    "# Our model is VERY confident in its predictions\n",
    "Softmax()(sequence_classification_model(**bert_tokenizer(\n",
    "    clean_tweet('Need toilet paper Police officers handed out toilet paper rolls at a Sydney supermarket to try to calm panic buying shoppers during the epidemic')\n",
    ", return_tensors='pt')).logits)"
   ]
  },
  {
   "cell_type": "code",
   "execution_count": 32,
   "id": "1844cfef",
   "metadata": {},
   "outputs": [
    {
     "name": "stderr",
     "output_type": "stream",
     "text": [
      "/var/folders/y9/9xqbqkg90tnc0cmm0dxt985m0000gn/T/ipykernel_66288/1496898499.py:2: UserWarning: Implicit dimension choice for softmax has been deprecated. Change the call to include dim=X as an argument.\n",
      "  Softmax()(sequence_classification_model(**bert_tokenizer(\n"
     ]
    },
    {
     "data": {
      "text/plain": [
       "tensor([[0.0061, 0.0047, 0.9892]], grad_fn=<SoftmaxBackward0>)"
      ]
     },
     "execution_count": 32,
     "metadata": {},
     "output_type": "execute_result"
    }
   ],
   "source": [
    "# Our model is VERY confident in its predictions\n",
    "Softmax()(sequence_classification_model(**bert_tokenizer(\n",
    "    clean_tweet('Police officers handed out rolls of toilet paper at a Sydney supermarket on Thursday to try to calm shoppers down during the outbreak in Australia')\n",
    ", return_tensors='pt')).logits)"
   ]
  },
  {
   "cell_type": "code",
   "execution_count": 33,
   "id": "1a40b19e",
   "metadata": {},
   "outputs": [],
   "source": [
    "# Our model may be overfitting making it harder to predict unseen data"
   ]
  },
  {
   "cell_type": "code",
   "execution_count": null,
   "id": "3f737186",
   "metadata": {},
   "outputs": [],
   "source": []
  }
 ],
 "metadata": {
  "kernelspec": {
   "display_name": "Python 3 (ipykernel)",
   "language": "python",
   "name": "python3"
  },
  "language_info": {
   "codemirror_mode": {
    "name": "ipython",
    "version": 3
   },
   "file_extension": ".py",
   "mimetype": "text/x-python",
   "name": "python",
   "nbconvert_exporter": "python",
   "pygments_lexer": "ipython3",
   "version": "3.9.15"
  }
 },
 "nbformat": 4,
 "nbformat_minor": 5
}
