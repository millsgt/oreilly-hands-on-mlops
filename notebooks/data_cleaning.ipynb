{
 "cells": [
  {
   "cell_type": "code",
   "execution_count": 1,
   "id": "a54932c6",
   "metadata": {},
   "outputs": [],
   "source": [
    "from nlp import Dataset\n",
    "import pandas as pd\n",
    "import re\n",
    "from transformers import DistilBertForSequenceClassification, DistilBertTokenizerFast\n",
    "from torch.nn import Softmax\n",
    "from torch import tensor, where\n",
    "from torch.utils.data import DataLoader\n",
    "\n",
    "from random import seed\n",
    "\n",
    "seed(42)\n"
   ]
  },
  {
   "cell_type": "code",
   "execution_count": 2,
   "id": "02f8521e",
   "metadata": {},
   "outputs": [],
   "source": [
    "# read our tweet sample\n",
    "tweets = pd.read_csv('../data/cleaned_tweets.csv', encoding='ISO-8859-1')\n",
    "\n",
    "# convert the date to a datetime format\n",
    "tweets['date'] = pd.to_datetime(tweets['TweetAt']).astype('datetime64[ms]')\n",
    "\n",
    "# set our index as our datetime column and delete the date columns\n",
    "tweets.index = tweets['date']\n",
    "del tweets['date']\n",
    "\n",
    "# Sort our tweets\n",
    "tweets.sort_index(inplace=True)"
   ]
  },
  {
   "cell_type": "code",
   "execution_count": 3,
   "id": "1082aa1f",
   "metadata": {},
   "outputs": [],
   "source": [
    "# create an index that we can reference later\n",
    "tweets['index'] = range(tweets.shape[0])"
   ]
  },
  {
   "cell_type": "code",
   "execution_count": 63,
   "id": "a745f506",
   "metadata": {},
   "outputs": [
    {
     "data": {
      "text/html": [
       "<div>\n",
       "<style scoped>\n",
       "    .dataframe tbody tr th:only-of-type {\n",
       "        vertical-align: middle;\n",
       "    }\n",
       "\n",
       "    .dataframe tbody tr th {\n",
       "        vertical-align: top;\n",
       "    }\n",
       "\n",
       "    .dataframe thead th {\n",
       "        text-align: right;\n",
       "    }\n",
       "</style>\n",
       "<table border=\"1\" class=\"dataframe\">\n",
       "  <thead>\n",
       "    <tr style=\"text-align: right;\">\n",
       "      <th></th>\n",
       "      <th>UserName</th>\n",
       "      <th>ScreenName</th>\n",
       "      <th>Location</th>\n",
       "      <th>TweetAt</th>\n",
       "      <th>OriginalTweet</th>\n",
       "      <th>Sentiment</th>\n",
       "      <th>month</th>\n",
       "      <th>text</th>\n",
       "      <th>label</th>\n",
       "      <th>index</th>\n",
       "    </tr>\n",
       "    <tr>\n",
       "      <th>date</th>\n",
       "      <th></th>\n",
       "      <th></th>\n",
       "      <th></th>\n",
       "      <th></th>\n",
       "      <th></th>\n",
       "      <th></th>\n",
       "      <th></th>\n",
       "      <th></th>\n",
       "      <th></th>\n",
       "      <th></th>\n",
       "    </tr>\n",
       "  </thead>\n",
       "  <tbody>\n",
       "    <tr>\n",
       "      <th>2020-01-04</th>\n",
       "      <td>29309</td>\n",
       "      <td>74261</td>\n",
       "      <td>Tidal County, Knoxville, TN</td>\n",
       "      <td>01-04-2020</td>\n",
       "      <td>Overwhelmed with info Before you act stop Ask ...</td>\n",
       "      <td>Positive</td>\n",
       "      <td>1</td>\n",
       "      <td>Overwhelmed with info Before you act stop Ask ...</td>\n",
       "      <td>2</td>\n",
       "      <td>0</td>\n",
       "    </tr>\n",
       "    <tr>\n",
       "      <th>2020-01-04</th>\n",
       "      <td>29316</td>\n",
       "      <td>74268</td>\n",
       "      <td>Fort George G. Meade, Md.</td>\n",
       "      <td>01-04-2020</td>\n",
       "      <td>Malwarebytes rounded up some useful tips for s...</td>\n",
       "      <td>Extremely Positive</td>\n",
       "      <td>1</td>\n",
       "      <td>Malwarebytes rounded up some useful tips for s...</td>\n",
       "      <td>2</td>\n",
       "      <td>1</td>\n",
       "    </tr>\n",
       "    <tr>\n",
       "      <th>2020-01-04</th>\n",
       "      <td>29317</td>\n",
       "      <td>74269</td>\n",
       "      <td>Australia</td>\n",
       "      <td>01-04-2020</td>\n",
       "      <td>A Queensland mum has posted a heartbreaking pi...</td>\n",
       "      <td>Extremely Negative</td>\n",
       "      <td>1</td>\n",
       "      <td>A Queensland mum has posted a heartbreaking pi...</td>\n",
       "      <td>0</td>\n",
       "      <td>2</td>\n",
       "    </tr>\n",
       "    <tr>\n",
       "      <th>2020-01-04</th>\n",
       "      <td>29318</td>\n",
       "      <td>74270</td>\n",
       "      <td>Debt Jubilee</td>\n",
       "      <td>01-04-2020</td>\n",
       "      <td>New President Trump says U S gasoline prices w...</td>\n",
       "      <td>Neutral</td>\n",
       "      <td>1</td>\n",
       "      <td>New President Trump says U S gasoline prices w...</td>\n",
       "      <td>1</td>\n",
       "      <td>3</td>\n",
       "    </tr>\n",
       "    <tr>\n",
       "      <th>2020-01-04</th>\n",
       "      <td>29319</td>\n",
       "      <td>74271</td>\n",
       "      <td>??to Miami</td>\n",
       "      <td>01-04-2020</td>\n",
       "      <td>SUPERMARKET SAFETY is the latest grocery chain...</td>\n",
       "      <td>Extremely Positive</td>\n",
       "      <td>1</td>\n",
       "      <td>SUPERMARKET SAFETY is the latest grocery chain...</td>\n",
       "      <td>2</td>\n",
       "      <td>4</td>\n",
       "    </tr>\n",
       "    <tr>\n",
       "      <th>...</th>\n",
       "      <td>...</td>\n",
       "      <td>...</td>\n",
       "      <td>...</td>\n",
       "      <td>...</td>\n",
       "      <td>...</td>\n",
       "      <td>...</td>\n",
       "      <td>...</td>\n",
       "      <td>...</td>\n",
       "      <td>...</td>\n",
       "      <td>...</td>\n",
       "    </tr>\n",
       "    <tr>\n",
       "      <th>2020-03-31</th>\n",
       "      <td>29063</td>\n",
       "      <td>74015</td>\n",
       "      <td>Toronto, Canada</td>\n",
       "      <td>31-03-2020</td>\n",
       "      <td>Saputo says demand for its products is shiftin...</td>\n",
       "      <td>Negative</td>\n",
       "      <td>3</td>\n",
       "      <td>Saputo says demand for its products is shiftin...</td>\n",
       "      <td>0</td>\n",
       "      <td>2152</td>\n",
       "    </tr>\n",
       "    <tr>\n",
       "      <th>2020-03-31</th>\n",
       "      <td>28994</td>\n",
       "      <td>73946</td>\n",
       "      <td>has passport, will travel</td>\n",
       "      <td>31-03-2020</td>\n",
       "      <td>Covid 19 - milk supply under threat amid deman...</td>\n",
       "      <td>Negative</td>\n",
       "      <td>3</td>\n",
       "      <td>Covid 19 - milk supply under threat amid deman...</td>\n",
       "      <td>0</td>\n",
       "      <td>2153</td>\n",
       "    </tr>\n",
       "    <tr>\n",
       "      <th>2020-03-31</th>\n",
       "      <td>29204</td>\n",
       "      <td>74156</td>\n",
       "      <td>Walhalla, South Carolina</td>\n",
       "      <td>31-03-2020</td>\n",
       "      <td>Our latest details how fraudsters are trying t...</td>\n",
       "      <td>Negative</td>\n",
       "      <td>3</td>\n",
       "      <td>Our latest details how fraudsters are trying t...</td>\n",
       "      <td>0</td>\n",
       "      <td>2154</td>\n",
       "    </tr>\n",
       "    <tr>\n",
       "      <th>2020-03-31</th>\n",
       "      <td>29187</td>\n",
       "      <td>74139</td>\n",
       "      <td>Arlington, VA</td>\n",
       "      <td>31-03-2020</td>\n",
       "      <td>Some consumer companies tap nearly 99B amid bo...</td>\n",
       "      <td>Neutral</td>\n",
       "      <td>3</td>\n",
       "      <td>Some consumer companies tap nearly 99B amid bo...</td>\n",
       "      <td>1</td>\n",
       "      <td>2155</td>\n",
       "    </tr>\n",
       "    <tr>\n",
       "      <th>2020-03-31</th>\n",
       "      <td>29276</td>\n",
       "      <td>74228</td>\n",
       "      <td>Geneva, Switzerland</td>\n",
       "      <td>31-03-2020</td>\n",
       "      <td>EuropeÃÂs fresh food supply is being threate...</td>\n",
       "      <td>Negative</td>\n",
       "      <td>3</td>\n",
       "      <td>EuropeÃÂs fresh food supply is being threate...</td>\n",
       "      <td>0</td>\n",
       "      <td>2156</td>\n",
       "    </tr>\n",
       "  </tbody>\n",
       "</table>\n",
       "<p>2157 rows × 10 columns</p>\n",
       "</div>"
      ],
      "text/plain": [
       "            UserName  ScreenName                     Location     TweetAt  \\\n",
       "date                                                                        \n",
       "2020-01-04     29309       74261  Tidal County, Knoxville, TN  01-04-2020   \n",
       "2020-01-04     29316       74268    Fort George G. Meade, Md.  01-04-2020   \n",
       "2020-01-04     29317       74269                    Australia  01-04-2020   \n",
       "2020-01-04     29318       74270                 Debt Jubilee  01-04-2020   \n",
       "2020-01-04     29319       74271                  ??to Miami   01-04-2020   \n",
       "...              ...         ...                          ...         ...   \n",
       "2020-03-31     29063       74015              Toronto, Canada  31-03-2020   \n",
       "2020-03-31     28994       73946    has passport, will travel  31-03-2020   \n",
       "2020-03-31     29204       74156     Walhalla, South Carolina  31-03-2020   \n",
       "2020-03-31     29187       74139                Arlington, VA  31-03-2020   \n",
       "2020-03-31     29276       74228          Geneva, Switzerland  31-03-2020   \n",
       "\n",
       "                                                OriginalTweet  \\\n",
       "date                                                            \n",
       "2020-01-04  Overwhelmed with info Before you act stop Ask ...   \n",
       "2020-01-04  Malwarebytes rounded up some useful tips for s...   \n",
       "2020-01-04  A Queensland mum has posted a heartbreaking pi...   \n",
       "2020-01-04  New President Trump says U S gasoline prices w...   \n",
       "2020-01-04  SUPERMARKET SAFETY is the latest grocery chain...   \n",
       "...                                                       ...   \n",
       "2020-03-31  Saputo says demand for its products is shiftin...   \n",
       "2020-03-31  Covid 19 - milk supply under threat amid deman...   \n",
       "2020-03-31  Our latest details how fraudsters are trying t...   \n",
       "2020-03-31  Some consumer companies tap nearly 99B amid bo...   \n",
       "2020-03-31  EuropeÃÂs fresh food supply is being threate...   \n",
       "\n",
       "                     Sentiment  month  \\\n",
       "date                                    \n",
       "2020-01-04            Positive      1   \n",
       "2020-01-04  Extremely Positive      1   \n",
       "2020-01-04  Extremely Negative      1   \n",
       "2020-01-04             Neutral      1   \n",
       "2020-01-04  Extremely Positive      1   \n",
       "...                        ...    ...   \n",
       "2020-03-31            Negative      3   \n",
       "2020-03-31            Negative      3   \n",
       "2020-03-31            Negative      3   \n",
       "2020-03-31             Neutral      3   \n",
       "2020-03-31            Negative      3   \n",
       "\n",
       "                                                         text  label  index  \n",
       "date                                                                         \n",
       "2020-01-04  Overwhelmed with info Before you act stop Ask ...      2      0  \n",
       "2020-01-04  Malwarebytes rounded up some useful tips for s...      2      1  \n",
       "2020-01-04  A Queensland mum has posted a heartbreaking pi...      0      2  \n",
       "2020-01-04  New President Trump says U S gasoline prices w...      1      3  \n",
       "2020-01-04  SUPERMARKET SAFETY is the latest grocery chain...      2      4  \n",
       "...                                                       ...    ...    ...  \n",
       "2020-03-31  Saputo says demand for its products is shiftin...      0   2152  \n",
       "2020-03-31  Covid 19 - milk supply under threat amid deman...      0   2153  \n",
       "2020-03-31  Our latest details how fraudsters are trying t...      0   2154  \n",
       "2020-03-31  Some consumer companies tap nearly 99B amid bo...      1   2155  \n",
       "2020-03-31  EuropeÃÂs fresh food supply is being threate...      0   2156  \n",
       "\n",
       "[2157 rows x 10 columns]"
      ]
     },
     "execution_count": 63,
     "metadata": {},
     "output_type": "execute_result"
    }
   ],
   "source": [
    "tweets"
   ]
  },
  {
   "cell_type": "code",
   "execution_count": 4,
   "id": "4a87677f",
   "metadata": {
    "scrolled": true
   },
   "outputs": [],
   "source": [
    "# load up a pre-trained bert\n",
    "\n",
    "BERT_MODEL = 'distilbert-base-uncased'\n",
    "\n",
    "bert_tokenizer = DistilBertTokenizerFast.from_pretrained(BERT_MODEL)\n"
   ]
  },
  {
   "cell_type": "code",
   "execution_count": 5,
   "id": "067c327c",
   "metadata": {},
   "outputs": [],
   "source": [
    "# Grab the same training data as the model_drift notebook\n",
    "tweets = tweets[:'2020-03']"
   ]
  },
  {
   "cell_type": "code",
   "execution_count": 6,
   "id": "5f8f029e",
   "metadata": {
    "scrolled": true
   },
   "outputs": [
    {
     "data": {
      "application/vnd.jupyter.widget-view+json": {
       "model_id": "36b287f452e94abd89e88bffb769c223",
       "version_major": 2,
       "version_minor": 0
      },
      "text/plain": [
       "  0%|          | 0/2 [00:00<?, ?it/s]"
      ]
     },
     "metadata": {},
     "output_type": "display_data"
    },
    {
     "data": {
      "application/vnd.jupyter.widget-view+json": {
       "model_id": "da3ffac9ef974036bdb306b2c4d5721e",
       "version_major": 2,
       "version_minor": 0
      },
      "text/plain": [
       "  0%|          | 0/1 [00:00<?, ?it/s]"
      ]
     },
     "metadata": {},
     "output_type": "display_data"
    }
   ],
   "source": [
    "# Create a Dataset\n",
    "tweet_dataset = Dataset.from_pandas(tweets.reset_index()[['text', 'label', 'index']])\n",
    "\n",
    "# Dataset has a built in train test split method\n",
    "tweet_dataset = tweet_dataset.train_test_split(test_size=0.2)\n",
    "\n",
    "train_set = tweet_dataset['train']\n",
    "test_set = tweet_dataset['test']"
   ]
  },
  {
   "cell_type": "code",
   "execution_count": 7,
   "id": "e62eeeaa",
   "metadata": {},
   "outputs": [
    {
     "name": "stdout",
     "output_type": "stream",
     "text": [
      "Ignored unknown kwarg option direction\n"
     ]
    },
    {
     "data": {
      "application/vnd.jupyter.widget-view+json": {
       "model_id": "683b9b99147b4411b3b2b8af691d3479",
       "version_major": 2,
       "version_minor": 0
      },
      "text/plain": [
       "  0%|          | 0/1 [00:00<?, ?it/s]"
      ]
     },
     "metadata": {},
     "output_type": "display_data"
    },
    {
     "name": "stdout",
     "output_type": "stream",
     "text": [
      "Ignored unknown kwarg option direction\n",
      "Ignored unknown kwarg option direction\n"
     ]
    },
    {
     "data": {
      "application/vnd.jupyter.widget-view+json": {
       "model_id": "f6309e3661b8468184580b93c7c7feb5",
       "version_major": 2,
       "version_minor": 0
      },
      "text/plain": [
       "  0%|          | 0/1 [00:00<?, ?it/s]"
      ]
     },
     "metadata": {},
     "output_type": "display_data"
    },
    {
     "name": "stdout",
     "output_type": "stream",
     "text": [
      "Ignored unknown kwarg option direction\n"
     ]
    }
   ],
   "source": [
    "# We will pad our dataset so that our input matrices are the same length\n",
    "def preprocess(data):\n",
    "    return bert_tokenizer(data['text'], padding=True, truncation=True, max_length=128)\n",
    "\n",
    "# map the preprocess function over the dataset\n",
    "train_set = train_set.map(preprocess, batched=True, batch_size=len(train_set))\n",
    "test_set = test_set.map(preprocess, batched=True, batch_size=len(test_set))\n",
    "\n",
    "train_set.set_format('torch', columns=['input_ids', 'attention_mask', 'label', 'index'])\n",
    "test_set.set_format('torch', columns=['input_ids', 'attention_mask', 'label', 'index'])"
   ]
  },
  {
   "cell_type": "code",
   "execution_count": 8,
   "id": "e99c98c4",
   "metadata": {
    "scrolled": true
   },
   "outputs": [
    {
     "name": "stderr",
     "output_type": "stream",
     "text": [
      "Some weights of the model checkpoint at distilbert-base-uncased were not used when initializing DistilBertForSequenceClassification: ['vocab_projector.bias', 'vocab_layer_norm.bias', 'vocab_transform.weight', 'vocab_layer_norm.weight', 'vocab_transform.bias', 'vocab_projector.weight']\n",
      "- This IS expected if you are initializing DistilBertForSequenceClassification from the checkpoint of a model trained on another task or with another architecture (e.g. initializing a BertForSequenceClassification model from a BertForPreTraining model).\n",
      "- This IS NOT expected if you are initializing DistilBertForSequenceClassification from the checkpoint of a model that you expect to be exactly identical (initializing a BertForSequenceClassification model from a BertForSequenceClassification model).\n",
      "Some weights of DistilBertForSequenceClassification were not initialized from the model checkpoint at distilbert-base-uncased and are newly initialized: ['classifier.weight', 'pre_classifier.weight', 'pre_classifier.bias', 'classifier.bias']\n",
      "You should probably TRAIN this model on a down-stream task to be able to use it for predictions and inference.\n"
     ]
    }
   ],
   "source": [
    "# Define a sequence classification model\n",
    "sequence_classification_model = DistilBertForSequenceClassification.from_pretrained(BERT_MODEL, num_labels=3)"
   ]
  },
  {
   "cell_type": "code",
   "execution_count": null,
   "id": "f29d19e4",
   "metadata": {},
   "outputs": [],
   "source": []
  },
  {
   "cell_type": "markdown",
   "id": "773a0e5b",
   "metadata": {},
   "source": [
    "![title](../images/aum.png)\n"
   ]
  },
  {
   "cell_type": "code",
   "execution_count": 9,
   "id": "96d0627b",
   "metadata": {},
   "outputs": [],
   "source": [
    "# https://github.com/asappresearch/aum\n",
    "from aum import AUMCalculator\n",
    "\n",
    "# Set a directory to save our results\n",
    "save_dir = './clean'\n",
    "# Setting compressed to False gives us information over several epochs\n",
    "aum_calculator = AUMCalculator(save_dir, compressed=False)"
   ]
  },
  {
   "cell_type": "code",
   "execution_count": null,
   "id": "ce093d2e",
   "metadata": {},
   "outputs": [],
   "source": []
  },
  {
   "cell_type": "code",
   "execution_count": 10,
   "id": "8222d777",
   "metadata": {},
   "outputs": [],
   "source": [
    "# We are going to define the training process without the training arguments"
   ]
  },
  {
   "cell_type": "code",
   "execution_count": 11,
   "id": "4db411e3",
   "metadata": {},
   "outputs": [
    {
     "name": "stderr",
     "output_type": "stream",
     "text": [
      "/opt/homebrew/lib/python3.9/site-packages/transformers/optimization.py:306: FutureWarning: This implementation of AdamW is deprecated and will be removed in a future version. Use thePyTorch implementation torch.optim.AdamW instead, or set `no_deprecation_warning=True` to disable this warning\n",
      "  warnings.warn(\n"
     ]
    }
   ],
   "source": [
    "from transformers import AdamW\n",
    "from transformers import get_scheduler\n",
    "\n",
    "# Define our optimizer. Nothing special here\n",
    "optimizer = AdamW(sequence_classification_model.parameters(), lr=5e-5)\n",
    "train_loader = DataLoader(train_set, batch_size=64, shuffle=False)\n",
    "\n",
    "# Train for 10 epochs to get as much data as possible\n",
    "num_epochs = 10\n",
    "# Set the number of training steps\n",
    "num_training_steps = num_epochs * len(train_loader)\n",
    "lr_scheduler = get_scheduler(\n",
    "    \"linear\",\n",
    "    optimizer=optimizer,\n",
    "    num_warmup_steps=0,\n",
    "    num_training_steps=num_training_steps\n",
    ")"
   ]
  },
  {
   "cell_type": "code",
   "execution_count": 13,
   "id": "1d3cc445",
   "metadata": {
    "scrolled": true
   },
   "outputs": [
    {
     "data": {
      "application/vnd.jupyter.widget-view+json": {
       "model_id": "d207a98515924c7990285e0e17f21a71",
       "version_major": 2,
       "version_minor": 0
      },
      "text/plain": [
       "  0%|          | 0/270 [00:00<?, ?it/s]"
      ]
     },
     "metadata": {},
     "output_type": "display_data"
    }
   ],
   "source": [
    "from tqdm.auto import tqdm\n",
    "\n",
    "progress_bar = tqdm(range(num_training_steps))\n",
    "\n",
    "# Set our model to training mode as opposed to .eval()\n",
    "sequence_classification_model.train()\n",
    "\n",
    "for epoch in range(num_epochs):\n",
    "    # For every epoch, iterate over batches of data\n",
    "    for batch in train_loader:\n",
    "        # pass the data into the model without the index column\n",
    "        _batch = {k: v for k, v in batch.items() if k not in ('index',)}\n",
    "        _batch['labels'] = _batch['label']  # not very effecient way to change the label name for the siamese network\n",
    "        del _batch['label']\n",
    "        outputs = sequence_classification_model(**_batch)\n",
    "        \n",
    "        # PyTorch training code\n",
    "        loss = outputs.loss\n",
    "        loss.backward()\n",
    "\n",
    "        optimizer.step()\n",
    "        lr_scheduler.step()\n",
    "        \n",
    "        # Update records in our AUM Calculator\n",
    "        records = aum_calculator.update(outputs.logits, batch['label'], batch['index'].tolist())\n",
    "        \n",
    "        optimizer.zero_grad()\n",
    "        progress_bar.update(1)"
   ]
  },
  {
   "cell_type": "code",
   "execution_count": 14,
   "id": "ccb6ac7b",
   "metadata": {},
   "outputs": [],
   "source": [
    "# Create the final csvs for analysis\n",
    "aum_calculator.finalize()"
   ]
  },
  {
   "cell_type": "code",
   "execution_count": 15,
   "id": "75dff6ee",
   "metadata": {},
   "outputs": [
    {
     "name": "stdout",
     "output_type": "stream",
     "text": [
      "(1725, 2)\n"
     ]
    },
    {
     "data": {
      "text/html": [
       "<div>\n",
       "<style scoped>\n",
       "    .dataframe tbody tr th:only-of-type {\n",
       "        vertical-align: middle;\n",
       "    }\n",
       "\n",
       "    .dataframe tbody tr th {\n",
       "        vertical-align: top;\n",
       "    }\n",
       "\n",
       "    .dataframe thead th {\n",
       "        text-align: right;\n",
       "    }\n",
       "</style>\n",
       "<table border=\"1\" class=\"dataframe\">\n",
       "  <thead>\n",
       "    <tr style=\"text-align: right;\">\n",
       "      <th></th>\n",
       "      <th>sample_id</th>\n",
       "      <th>aum</th>\n",
       "    </tr>\n",
       "  </thead>\n",
       "  <tbody>\n",
       "    <tr>\n",
       "      <th>0</th>\n",
       "      <td>361</td>\n",
       "      <td>4.209358</td>\n",
       "    </tr>\n",
       "    <tr>\n",
       "      <th>1</th>\n",
       "      <td>1113</td>\n",
       "      <td>4.088204</td>\n",
       "    </tr>\n",
       "    <tr>\n",
       "      <th>2</th>\n",
       "      <td>256</td>\n",
       "      <td>4.083540</td>\n",
       "    </tr>\n",
       "    <tr>\n",
       "      <th>3</th>\n",
       "      <td>1868</td>\n",
       "      <td>4.080309</td>\n",
       "    </tr>\n",
       "    <tr>\n",
       "      <th>4</th>\n",
       "      <td>1630</td>\n",
       "      <td>4.061262</td>\n",
       "    </tr>\n",
       "  </tbody>\n",
       "</table>\n",
       "</div>"
      ],
      "text/plain": [
       "   sample_id       aum\n",
       "0        361  4.209358\n",
       "1       1113  4.088204\n",
       "2        256  4.083540\n",
       "3       1868  4.080309\n",
       "4       1630  4.061262"
      ]
     },
     "execution_count": 15,
     "metadata": {},
     "output_type": "execute_result"
    }
   ],
   "source": [
    "# Read the compressed values\n",
    "# Lower values are meant to signify potentially mislabeled data\n",
    "# Higher values are meant to signify potentially properly labelled data\n",
    "aum_values = pd.read_csv('./clean/aum_values.csv')\n",
    "\n",
    "# one value per datapoint\n",
    "print(aum_values.shape)\n",
    "\n",
    "# Most likely to be labelled correctly\n",
    "aum_values.head()"
   ]
  },
  {
   "cell_type": "code",
   "execution_count": 16,
   "id": "f39d9ddf",
   "metadata": {},
   "outputs": [
    {
     "data": {
      "text/html": [
       "<div>\n",
       "<style scoped>\n",
       "    .dataframe tbody tr th:only-of-type {\n",
       "        vertical-align: middle;\n",
       "    }\n",
       "\n",
       "    .dataframe tbody tr th {\n",
       "        vertical-align: top;\n",
       "    }\n",
       "\n",
       "    .dataframe thead th {\n",
       "        text-align: right;\n",
       "    }\n",
       "</style>\n",
       "<table border=\"1\" class=\"dataframe\">\n",
       "  <thead>\n",
       "    <tr style=\"text-align: right;\">\n",
       "      <th></th>\n",
       "      <th>sample_id</th>\n",
       "      <th>aum</th>\n",
       "    </tr>\n",
       "  </thead>\n",
       "  <tbody>\n",
       "    <tr>\n",
       "      <th>1720</th>\n",
       "      <td>65</td>\n",
       "      <td>-2.612194</td>\n",
       "    </tr>\n",
       "    <tr>\n",
       "      <th>1721</th>\n",
       "      <td>180</td>\n",
       "      <td>-2.618396</td>\n",
       "    </tr>\n",
       "    <tr>\n",
       "      <th>1722</th>\n",
       "      <td>1430</td>\n",
       "      <td>-2.796174</td>\n",
       "    </tr>\n",
       "    <tr>\n",
       "      <th>1723</th>\n",
       "      <td>1678</td>\n",
       "      <td>-3.272786</td>\n",
       "    </tr>\n",
       "    <tr>\n",
       "      <th>1724</th>\n",
       "      <td>538</td>\n",
       "      <td>-4.253930</td>\n",
       "    </tr>\n",
       "  </tbody>\n",
       "</table>\n",
       "</div>"
      ],
      "text/plain": [
       "      sample_id       aum\n",
       "1720         65 -2.612194\n",
       "1721        180 -2.618396\n",
       "1722       1430 -2.796174\n",
       "1723       1678 -3.272786\n",
       "1724        538 -4.253930"
      ]
     },
     "execution_count": 16,
     "metadata": {},
     "output_type": "execute_result"
    }
   ],
   "source": [
    "# Most likely to be labelled incorrectly\n",
    "aum_values.tail()"
   ]
  },
  {
   "cell_type": "code",
   "execution_count": 17,
   "id": "48b3e43f",
   "metadata": {},
   "outputs": [
    {
     "name": "stdout",
     "output_type": "stream",
     "text": [
      "(17250, 8)\n"
     ]
    },
    {
     "data": {
      "text/html": [
       "<div>\n",
       "<style scoped>\n",
       "    .dataframe tbody tr th:only-of-type {\n",
       "        vertical-align: middle;\n",
       "    }\n",
       "\n",
       "    .dataframe tbody tr th {\n",
       "        vertical-align: top;\n",
       "    }\n",
       "\n",
       "    .dataframe thead th {\n",
       "        text-align: right;\n",
       "    }\n",
       "</style>\n",
       "<table border=\"1\" class=\"dataframe\">\n",
       "  <thead>\n",
       "    <tr style=\"text-align: right;\">\n",
       "      <th></th>\n",
       "      <th>sample_id</th>\n",
       "      <th>num_measurements</th>\n",
       "      <th>target_logit</th>\n",
       "      <th>target_val</th>\n",
       "      <th>other_logit</th>\n",
       "      <th>other_val</th>\n",
       "      <th>margin</th>\n",
       "      <th>aum</th>\n",
       "    </tr>\n",
       "  </thead>\n",
       "  <tbody>\n",
       "    <tr>\n",
       "      <th>0</th>\n",
       "      <td>1</td>\n",
       "      <td>1</td>\n",
       "      <td>2</td>\n",
       "      <td>0.198237</td>\n",
       "      <td>0</td>\n",
       "      <td>-0.138813</td>\n",
       "      <td>0.337051</td>\n",
       "      <td>0.337051</td>\n",
       "    </tr>\n",
       "    <tr>\n",
       "      <th>1</th>\n",
       "      <td>1</td>\n",
       "      <td>2</td>\n",
       "      <td>2</td>\n",
       "      <td>0.557133</td>\n",
       "      <td>1</td>\n",
       "      <td>-0.130709</td>\n",
       "      <td>0.687842</td>\n",
       "      <td>0.512447</td>\n",
       "    </tr>\n",
       "    <tr>\n",
       "      <th>2</th>\n",
       "      <td>1</td>\n",
       "      <td>3</td>\n",
       "      <td>2</td>\n",
       "      <td>2.004453</td>\n",
       "      <td>1</td>\n",
       "      <td>-1.186220</td>\n",
       "      <td>3.190673</td>\n",
       "      <td>1.405189</td>\n",
       "    </tr>\n",
       "    <tr>\n",
       "      <th>3</th>\n",
       "      <td>1</td>\n",
       "      <td>4</td>\n",
       "      <td>2</td>\n",
       "      <td>2.073597</td>\n",
       "      <td>1</td>\n",
       "      <td>-1.556555</td>\n",
       "      <td>3.630152</td>\n",
       "      <td>1.961430</td>\n",
       "    </tr>\n",
       "    <tr>\n",
       "      <th>4</th>\n",
       "      <td>1</td>\n",
       "      <td>5</td>\n",
       "      <td>2</td>\n",
       "      <td>2.925448</td>\n",
       "      <td>1</td>\n",
       "      <td>-1.818266</td>\n",
       "      <td>4.743714</td>\n",
       "      <td>2.517886</td>\n",
       "    </tr>\n",
       "  </tbody>\n",
       "</table>\n",
       "</div>"
      ],
      "text/plain": [
       "   sample_id  num_measurements  target_logit  target_val  other_logit  \\\n",
       "0          1                 1             2    0.198237            0   \n",
       "1          1                 2             2    0.557133            1   \n",
       "2          1                 3             2    2.004453            1   \n",
       "3          1                 4             2    2.073597            1   \n",
       "4          1                 5             2    2.925448            1   \n",
       "\n",
       "   other_val    margin       aum  \n",
       "0  -0.138813  0.337051  0.337051  \n",
       "1  -0.130709  0.687842  0.512447  \n",
       "2  -1.186220  3.190673  1.405189  \n",
       "3  -1.556555  3.630152  1.961430  \n",
       "4  -1.818266  4.743714  2.517886  "
      ]
     },
     "execution_count": 17,
     "metadata": {},
     "output_type": "execute_result"
    }
   ],
   "source": [
    "# Read the uncompressed values over all epochs. 10 values for each datapoint\n",
    "all_aum_records = pd.read_csv('./clean/full_aum_records.csv')\n",
    "print(all_aum_records.shape)\n",
    "all_aum_records.head()"
   ]
  },
  {
   "cell_type": "code",
   "execution_count": null,
   "id": "3b5d3aeb",
   "metadata": {},
   "outputs": [],
   "source": []
  },
  {
   "cell_type": "code",
   "execution_count": 70,
   "id": "37384089",
   "metadata": {},
   "outputs": [
    {
     "name": "stdout",
     "output_type": "stream",
     "text": [
      "256\n"
     ]
    },
    {
     "data": {
      "text/html": [
       "<div>\n",
       "<style scoped>\n",
       "    .dataframe tbody tr th:only-of-type {\n",
       "        vertical-align: middle;\n",
       "    }\n",
       "\n",
       "    .dataframe tbody tr th {\n",
       "        vertical-align: top;\n",
       "    }\n",
       "\n",
       "    .dataframe thead th {\n",
       "        text-align: right;\n",
       "    }\n",
       "</style>\n",
       "<table border=\"1\" class=\"dataframe\">\n",
       "  <thead>\n",
       "    <tr style=\"text-align: right;\">\n",
       "      <th></th>\n",
       "      <th>sample_id</th>\n",
       "      <th>num_measurements</th>\n",
       "      <th>target_logit</th>\n",
       "      <th>target_val</th>\n",
       "      <th>other_logit</th>\n",
       "      <th>other_val</th>\n",
       "      <th>margin</th>\n",
       "      <th>aum</th>\n",
       "    </tr>\n",
       "  </thead>\n",
       "  <tbody>\n",
       "    <tr>\n",
       "      <th>2040</th>\n",
       "      <td>256</td>\n",
       "      <td>1</td>\n",
       "      <td>1</td>\n",
       "      <td>-0.121492</td>\n",
       "      <td>2</td>\n",
       "      <td>0.079055</td>\n",
       "      <td>-0.200548</td>\n",
       "      <td>-0.200548</td>\n",
       "    </tr>\n",
       "    <tr>\n",
       "      <th>2041</th>\n",
       "      <td>256</td>\n",
       "      <td>2</td>\n",
       "      <td>1</td>\n",
       "      <td>1.509598</td>\n",
       "      <td>2</td>\n",
       "      <td>-0.564030</td>\n",
       "      <td>2.073628</td>\n",
       "      <td>0.936540</td>\n",
       "    </tr>\n",
       "    <tr>\n",
       "      <th>2042</th>\n",
       "      <td>256</td>\n",
       "      <td>3</td>\n",
       "      <td>1</td>\n",
       "      <td>2.137375</td>\n",
       "      <td>2</td>\n",
       "      <td>-0.676243</td>\n",
       "      <td>2.813618</td>\n",
       "      <td>1.562233</td>\n",
       "    </tr>\n",
       "    <tr>\n",
       "      <th>2043</th>\n",
       "      <td>256</td>\n",
       "      <td>4</td>\n",
       "      <td>1</td>\n",
       "      <td>2.602628</td>\n",
       "      <td>2</td>\n",
       "      <td>-1.080590</td>\n",
       "      <td>3.683218</td>\n",
       "      <td>2.092479</td>\n",
       "    </tr>\n",
       "    <tr>\n",
       "      <th>2044</th>\n",
       "      <td>256</td>\n",
       "      <td>5</td>\n",
       "      <td>1</td>\n",
       "      <td>3.063249</td>\n",
       "      <td>0</td>\n",
       "      <td>-1.326623</td>\n",
       "      <td>4.389872</td>\n",
       "      <td>2.551958</td>\n",
       "    </tr>\n",
       "    <tr>\n",
       "      <th>2045</th>\n",
       "      <td>256</td>\n",
       "      <td>6</td>\n",
       "      <td>1</td>\n",
       "      <td>3.289622</td>\n",
       "      <td>2</td>\n",
       "      <td>-1.614942</td>\n",
       "      <td>4.904564</td>\n",
       "      <td>2.944059</td>\n",
       "    </tr>\n",
       "    <tr>\n",
       "      <th>2046</th>\n",
       "      <td>256</td>\n",
       "      <td>7</td>\n",
       "      <td>1</td>\n",
       "      <td>3.946727</td>\n",
       "      <td>2</td>\n",
       "      <td>-1.774540</td>\n",
       "      <td>5.721266</td>\n",
       "      <td>3.340803</td>\n",
       "    </tr>\n",
       "    <tr>\n",
       "      <th>2047</th>\n",
       "      <td>256</td>\n",
       "      <td>8</td>\n",
       "      <td>1</td>\n",
       "      <td>3.736634</td>\n",
       "      <td>2</td>\n",
       "      <td>-1.719337</td>\n",
       "      <td>5.455972</td>\n",
       "      <td>3.605199</td>\n",
       "    </tr>\n",
       "    <tr>\n",
       "      <th>2048</th>\n",
       "      <td>256</td>\n",
       "      <td>9</td>\n",
       "      <td>1</td>\n",
       "      <td>3.713431</td>\n",
       "      <td>2</td>\n",
       "      <td>-1.886053</td>\n",
       "      <td>5.599484</td>\n",
       "      <td>3.826786</td>\n",
       "    </tr>\n",
       "    <tr>\n",
       "      <th>2049</th>\n",
       "      <td>256</td>\n",
       "      <td>10</td>\n",
       "      <td>1</td>\n",
       "      <td>4.252029</td>\n",
       "      <td>2</td>\n",
       "      <td>-2.142293</td>\n",
       "      <td>6.394322</td>\n",
       "      <td>4.083540</td>\n",
       "    </tr>\n",
       "  </tbody>\n",
       "</table>\n",
       "</div>"
      ],
      "text/plain": [
       "      sample_id  num_measurements  target_logit  target_val  other_logit  \\\n",
       "2040        256                 1             1   -0.121492            2   \n",
       "2041        256                 2             1    1.509598            2   \n",
       "2042        256                 3             1    2.137375            2   \n",
       "2043        256                 4             1    2.602628            2   \n",
       "2044        256                 5             1    3.063249            0   \n",
       "2045        256                 6             1    3.289622            2   \n",
       "2046        256                 7             1    3.946727            2   \n",
       "2047        256                 8             1    3.736634            2   \n",
       "2048        256                 9             1    3.713431            2   \n",
       "2049        256                10             1    4.252029            2   \n",
       "\n",
       "      other_val    margin       aum  \n",
       "2040   0.079055 -0.200548 -0.200548  \n",
       "2041  -0.564030  2.073628  0.936540  \n",
       "2042  -0.676243  2.813618  1.562233  \n",
       "2043  -1.080590  3.683218  2.092479  \n",
       "2044  -1.326623  4.389872  2.551958  \n",
       "2045  -1.614942  4.904564  2.944059  \n",
       "2046  -1.774540  5.721266  3.340803  \n",
       "2047  -1.719337  5.455972  3.605199  \n",
       "2048  -1.886053  5.599484  3.826786  \n",
       "2049  -2.142293  6.394322  4.083540  "
      ]
     },
     "execution_count": 70,
     "metadata": {},
     "output_type": "execute_result"
    }
   ],
   "source": [
    "# the highest AUM\n",
    "highest_sample_aum = int(aum_values.iloc[2].sample_id)\n",
    "\n",
    "print(highest_sample_aum)\n",
    "\n",
    "all_aum_records[all_aum_records['sample_id'] == highest_sample_aum]"
   ]
  },
  {
   "cell_type": "code",
   "execution_count": 71,
   "id": "f06da76e",
   "metadata": {},
   "outputs": [
    {
     "data": {
      "text/plain": [
       "<AxesSubplot:title={'center':'Sample 256'}>"
      ]
     },
     "execution_count": 71,
     "metadata": {},
     "output_type": "execute_result"
    },
    {
     "data": {
      "image/png": "[encoded data removed]",
      "text/plain": [
       "<Figure size 432x288 with 1 Axes>"
      ]
     },
     "metadata": {
      "needs_background": "light"
     },
     "output_type": "display_data"
    }
   ],
   "source": [
    "# Plotting the Logit difference between the intended label and the next highest label.\n",
    "# The target logit is MUCH larger than the next logit which is ideal\n",
    "all_aum_records[all_aum_records['sample_id'] == highest_sample_aum][['target_val', 'other_val']].plot(\n",
    "    title=f'Sample {highest_sample_aum}'\n",
    ")"
   ]
  },
  {
   "cell_type": "code",
   "execution_count": 72,
   "id": "ca5f92ec",
   "metadata": {},
   "outputs": [
    {
     "name": "stdout",
     "output_type": "stream",
     "text": [
      "And how does the food get to the supermarkets  ?? coronavirus\r",
      "\r\n",
      "???\r",
      "\r\n",
      "\r",
      "\r\n",
      "...\r",
      "\r\n",
      "\r",
      "\r\n",
      "url\n",
      "Neutral\n"
     ]
    }
   ],
   "source": [
    "high_tweet = tweets.iloc[highest_sample_aum]\n",
    "\n",
    "print(high_tweet['text'])\n",
    "print(high_tweet['Sentiment'])"
   ]
  },
  {
   "cell_type": "code",
   "execution_count": null,
   "id": "9d1cbbf7",
   "metadata": {},
   "outputs": [],
   "source": []
  },
  {
   "cell_type": "code",
   "execution_count": null,
   "id": "c038cf70",
   "metadata": {},
   "outputs": [],
   "source": []
  },
  {
   "cell_type": "code",
   "execution_count": 21,
   "id": "5d4c53aa",
   "metadata": {},
   "outputs": [
    {
     "name": "stdout",
     "output_type": "stream",
     "text": [
      "538\n"
     ]
    },
    {
     "data": {
      "text/html": [
       "<div>\n",
       "<style scoped>\n",
       "    .dataframe tbody tr th:only-of-type {\n",
       "        vertical-align: middle;\n",
       "    }\n",
       "\n",
       "    .dataframe tbody tr th {\n",
       "        vertical-align: top;\n",
       "    }\n",
       "\n",
       "    .dataframe thead th {\n",
       "        text-align: right;\n",
       "    }\n",
       "</style>\n",
       "<table border=\"1\" class=\"dataframe\">\n",
       "  <thead>\n",
       "    <tr style=\"text-align: right;\">\n",
       "      <th></th>\n",
       "      <th>sample_id</th>\n",
       "      <th>num_measurements</th>\n",
       "      <th>target_logit</th>\n",
       "      <th>target_val</th>\n",
       "      <th>other_logit</th>\n",
       "      <th>other_val</th>\n",
       "      <th>margin</th>\n",
       "      <th>aum</th>\n",
       "    </tr>\n",
       "  </thead>\n",
       "  <tbody>\n",
       "    <tr>\n",
       "      <th>4200</th>\n",
       "      <td>538</td>\n",
       "      <td>1</td>\n",
       "      <td>1</td>\n",
       "      <td>-0.622310</td>\n",
       "      <td>2</td>\n",
       "      <td>0.396324</td>\n",
       "      <td>-1.018633</td>\n",
       "      <td>-1.018633</td>\n",
       "    </tr>\n",
       "    <tr>\n",
       "      <th>4201</th>\n",
       "      <td>538</td>\n",
       "      <td>2</td>\n",
       "      <td>1</td>\n",
       "      <td>-1.193044</td>\n",
       "      <td>2</td>\n",
       "      <td>1.504937</td>\n",
       "      <td>-2.697981</td>\n",
       "      <td>-1.858307</td>\n",
       "    </tr>\n",
       "    <tr>\n",
       "      <th>4202</th>\n",
       "      <td>538</td>\n",
       "      <td>3</td>\n",
       "      <td>1</td>\n",
       "      <td>-1.715639</td>\n",
       "      <td>2</td>\n",
       "      <td>2.061665</td>\n",
       "      <td>-3.777304</td>\n",
       "      <td>-2.497973</td>\n",
       "    </tr>\n",
       "    <tr>\n",
       "      <th>4203</th>\n",
       "      <td>538</td>\n",
       "      <td>4</td>\n",
       "      <td>1</td>\n",
       "      <td>-1.317606</td>\n",
       "      <td>2</td>\n",
       "      <td>2.454161</td>\n",
       "      <td>-3.771767</td>\n",
       "      <td>-2.816421</td>\n",
       "    </tr>\n",
       "    <tr>\n",
       "      <th>4204</th>\n",
       "      <td>538</td>\n",
       "      <td>5</td>\n",
       "      <td>1</td>\n",
       "      <td>-1.985396</td>\n",
       "      <td>2</td>\n",
       "      <td>2.814141</td>\n",
       "      <td>-4.799537</td>\n",
       "      <td>-3.213044</td>\n",
       "    </tr>\n",
       "    <tr>\n",
       "      <th>4205</th>\n",
       "      <td>538</td>\n",
       "      <td>6</td>\n",
       "      <td>1</td>\n",
       "      <td>-2.141761</td>\n",
       "      <td>2</td>\n",
       "      <td>2.941527</td>\n",
       "      <td>-5.083287</td>\n",
       "      <td>-3.524752</td>\n",
       "    </tr>\n",
       "    <tr>\n",
       "      <th>4206</th>\n",
       "      <td>538</td>\n",
       "      <td>7</td>\n",
       "      <td>1</td>\n",
       "      <td>-1.965180</td>\n",
       "      <td>2</td>\n",
       "      <td>3.291921</td>\n",
       "      <td>-5.257101</td>\n",
       "      <td>-3.772230</td>\n",
       "    </tr>\n",
       "    <tr>\n",
       "      <th>4207</th>\n",
       "      <td>538</td>\n",
       "      <td>8</td>\n",
       "      <td>1</td>\n",
       "      <td>-2.194505</td>\n",
       "      <td>2</td>\n",
       "      <td>3.254621</td>\n",
       "      <td>-5.449125</td>\n",
       "      <td>-3.981842</td>\n",
       "    </tr>\n",
       "    <tr>\n",
       "      <th>4208</th>\n",
       "      <td>538</td>\n",
       "      <td>9</td>\n",
       "      <td>1</td>\n",
       "      <td>-2.392138</td>\n",
       "      <td>2</td>\n",
       "      <td>3.095144</td>\n",
       "      <td>-5.487282</td>\n",
       "      <td>-4.149113</td>\n",
       "    </tr>\n",
       "    <tr>\n",
       "      <th>4209</th>\n",
       "      <td>538</td>\n",
       "      <td>10</td>\n",
       "      <td>1</td>\n",
       "      <td>-2.181969</td>\n",
       "      <td>2</td>\n",
       "      <td>3.015314</td>\n",
       "      <td>-5.197283</td>\n",
       "      <td>-4.253930</td>\n",
       "    </tr>\n",
       "  </tbody>\n",
       "</table>\n",
       "</div>"
      ],
      "text/plain": [
       "      sample_id  num_measurements  target_logit  target_val  other_logit  \\\n",
       "4200        538                 1             1   -0.622310            2   \n",
       "4201        538                 2             1   -1.193044            2   \n",
       "4202        538                 3             1   -1.715639            2   \n",
       "4203        538                 4             1   -1.317606            2   \n",
       "4204        538                 5             1   -1.985396            2   \n",
       "4205        538                 6             1   -2.141761            2   \n",
       "4206        538                 7             1   -1.965180            2   \n",
       "4207        538                 8             1   -2.194505            2   \n",
       "4208        538                 9             1   -2.392138            2   \n",
       "4209        538                10             1   -2.181969            2   \n",
       "\n",
       "      other_val    margin       aum  \n",
       "4200   0.396324 -1.018633 -1.018633  \n",
       "4201   1.504937 -2.697981 -1.858307  \n",
       "4202   2.061665 -3.777304 -2.497973  \n",
       "4203   2.454161 -3.771767 -2.816421  \n",
       "4204   2.814141 -4.799537 -3.213044  \n",
       "4205   2.941527 -5.083287 -3.524752  \n",
       "4206   3.291921 -5.257101 -3.772230  \n",
       "4207   3.254621 -5.449125 -3.981842  \n",
       "4208   3.095144 -5.487282 -4.149113  \n",
       "4209   3.015314 -5.197283 -4.253930  "
      ]
     },
     "execution_count": 21,
     "metadata": {},
     "output_type": "execute_result"
    }
   ],
   "source": [
    "# the lowest AUM\n",
    "lowest_sample_aum = int(aum_values.iloc[-1].sample_id)\n",
    "\n",
    "print(lowest_sample_aum)\n",
    "\n",
    "all_aum_records[all_aum_records['sample_id'] == lowest_sample_aum]"
   ]
  },
  {
   "cell_type": "code",
   "execution_count": 22,
   "id": "0cca145c",
   "metadata": {},
   "outputs": [
    {
     "data": {
      "text/plain": [
       "<AxesSubplot:title={'center':'Sample 538'}>"
      ]
     },
     "execution_count": 22,
     "metadata": {},
     "output_type": "execute_result"
    },
    {
     "data": {
      "image/png": "[encoded data removed]",
      "text/plain": [
       "<Figure size 432x288 with 1 Axes>"
      ]
     },
     "metadata": {
      "needs_background": "light"
     },
     "output_type": "display_data"
    }
   ],
   "source": [
    "# Plotting the Logit difference between the intended label and the next highest label.\n",
    "# The next logit is MUCH larger than the target logit which is not ideal\n",
    "all_aum_records[all_aum_records['sample_id'] == lowest_sample_aum][['target_val', 'other_val']].plot(\n",
    "    title=f'Sample {lowest_sample_aum}'\n",
    ")\n"
   ]
  },
  {
   "cell_type": "code",
   "execution_count": 23,
   "id": "9dda8bf5",
   "metadata": {},
   "outputs": [
    {
     "name": "stdout",
     "output_type": "stream",
     "text": [
      "very nice of you not to ask compensation from for causing the SARS virus caused by their overdirty food markets BUT HOW ABOUT this   Demand\n",
      "Neutral\n"
     ]
    }
   ],
   "source": [
    "low_tweet = tweets.iloc[lowest_sample_aum]\n",
    "\n",
    "print(low_tweet['text'])\n",
    "print(low_tweet['Sentiment'])"
   ]
  },
  {
   "cell_type": "code",
   "execution_count": null,
   "id": "855a3c54",
   "metadata": {},
   "outputs": [],
   "source": []
  },
  {
   "cell_type": "code",
   "execution_count": null,
   "id": "ce01bb8e",
   "metadata": {},
   "outputs": [],
   "source": []
  },
  {
   "cell_type": "markdown",
   "id": "aa9f2331",
   "metadata": {},
   "source": [
    "## Using cosine similarity to find confusing phrases"
   ]
  },
  {
   "cell_type": "code",
   "execution_count": null,
   "id": "752c2019",
   "metadata": {},
   "outputs": [],
   "source": []
  },
  {
   "cell_type": "markdown",
   "id": "1214f51a",
   "metadata": {},
   "source": [
    "<img src='https://www.sbert.net/_images/SBERT_Siamese_Network1.png'>"
   ]
  },
  {
   "cell_type": "code",
   "execution_count": 24,
   "id": "fbee04bb",
   "metadata": {},
   "outputs": [],
   "source": [
    "# https://www.sbert.net/docs/usage/semantic_textual_similarity.html\n",
    "\n",
    "from sentence_transformers import SentenceTransformer, util\n",
    "# Use a pre-trained model specifically for symmetric semantic text similarity\n",
    "model = SentenceTransformer('all-MiniLM-L6-v2')"
   ]
  },
  {
   "cell_type": "code",
   "execution_count": 25,
   "id": "634a701e",
   "metadata": {
    "scrolled": true
   },
   "outputs": [
    {
     "name": "stdout",
     "output_type": "stream",
     "text": [
      "Ignored unknown kwarg option direction\n",
      "Ignored unknown kwarg option direction\n",
      "Ignored unknown kwarg option direction\n",
      "Ignored unknown kwarg option direction\n",
      "Ignored unknown kwarg option direction\n",
      "Ignored unknown kwarg option direction\n",
      "Ignored unknown kwarg option direction\n",
      "Ignored unknown kwarg option direction\n",
      "Ignored unknown kwarg option direction\n",
      "Ignored unknown kwarg option direction\n",
      "Ignored unknown kwarg option direction\n",
      "Ignored unknown kwarg option direction\n",
      "Ignored unknown kwarg option direction\n",
      "Ignored unknown kwarg option direction\n",
      "Ignored unknown kwarg option direction\n",
      "Ignored unknown kwarg option direction\n",
      "Ignored unknown kwarg option direction\n",
      "Ignored unknown kwarg option direction\n",
      "Ignored unknown kwarg option direction\n",
      "Ignored unknown kwarg option direction\n",
      "Ignored unknown kwarg option direction\n",
      "Ignored unknown kwarg option direction\n",
      "Ignored unknown kwarg option direction\n",
      "Ignored unknown kwarg option direction\n",
      "Ignored unknown kwarg option direction\n",
      "Ignored unknown kwarg option direction\n",
      "Ignored unknown kwarg option direction\n",
      "Ignored unknown kwarg option direction\n",
      "Ignored unknown kwarg option direction\n",
      "Ignored unknown kwarg option direction\n",
      "Ignored unknown kwarg option direction\n",
      "Ignored unknown kwarg option direction\n",
      "Ignored unknown kwarg option direction\n",
      "Ignored unknown kwarg option direction\n",
      "Ignored unknown kwarg option direction\n",
      "Ignored unknown kwarg option direction\n",
      "Ignored unknown kwarg option direction\n",
      "Ignored unknown kwarg option direction\n",
      "Ignored unknown kwarg option direction\n",
      "Ignored unknown kwarg option direction\n",
      "Ignored unknown kwarg option direction\n",
      "Ignored unknown kwarg option direction\n",
      "Ignored unknown kwarg option direction\n",
      "Ignored unknown kwarg option direction\n",
      "Ignored unknown kwarg option direction\n",
      "Ignored unknown kwarg option direction\n",
      "Ignored unknown kwarg option direction\n",
      "Ignored unknown kwarg option direction\n",
      "Ignored unknown kwarg option direction\n",
      "Ignored unknown kwarg option direction\n",
      "Ignored unknown kwarg option direction\n",
      "Ignored unknown kwarg option direction\n",
      "Ignored unknown kwarg option direction\n",
      "Ignored unknown kwarg option direction\n",
      "Ignored unknown kwarg option direction\n",
      "Ignored unknown kwarg option direction\n",
      "Ignored unknown kwarg option direction\n",
      "Ignored unknown kwarg option direction\n",
      "Ignored unknown kwarg option direction\n",
      "Ignored unknown kwarg option direction\n",
      "Ignored unknown kwarg option direction\n",
      "Ignored unknown kwarg option direction\n",
      "Ignored unknown kwarg option direction\n",
      "Ignored unknown kwarg option direction\n",
      "Ignored unknown kwarg option direction\n",
      "Ignored unknown kwarg option direction\n",
      "Ignored unknown kwarg option direction\n",
      "Ignored unknown kwarg option direction\n"
     ]
    }
   ],
   "source": [
    "# Embed all tweets into a vector space\n",
    "embeddings = model.encode(tweets['text'].tolist(), convert_to_tensor=True)"
   ]
  },
  {
   "cell_type": "code",
   "execution_count": 26,
   "id": "e5ab3d89",
   "metadata": {},
   "outputs": [],
   "source": [
    "# Calculate cosine similarity for each pair and set a threshold (higher is more semantically similar)\n",
    "cosine_scores = util.pytorch_cos_sim(embeddings, embeddings)\n",
    "\n",
    "COSINE_THRESHOLD = 0.9"
   ]
  },
  {
   "cell_type": "code",
   "execution_count": 27,
   "id": "b89676e3",
   "metadata": {
    "scrolled": true
   },
   "outputs": [
    {
     "name": "stdout",
     "output_type": "stream",
     "text": [
      "175 250 [['Covid-19 #heroes: Ã\\x82Â\\x91The #pub may be closed but that doesnÃ\\x82Â\\x92t mean we canÃ\\x82Â\\x92t help peopleÃ\\x82Â\\x92 https://t.co/RJCkmLDVt5 #coronavirus'\n",
      "  'Positive']\n",
      " ['Covid-19 heroes: Ã\\x82Â\\x91The pub may be closed but that doesnÃ\\x82Â\\x92t mean we canÃ\\x82Â\\x92t help peopleÃ\\x82Â\\x92\\r\\r\\nhttps://t.co/mpq8VYPrcT #coronavirus positive mindset'\n",
      "  'Extremely Positive']]\n",
      "--------\n",
      "229 440 [[\"'A Perfect Storm': U.S. Facing Hunger Crisis as Demand for Food Banks Soars https://t.co/wpA6p2XLU7 @theguardian #coronavirus #COVID19 #foodinsecurity\"\n",
      "  'Negative']\n",
      " [\"'A perfect storm': US facing #hunger #crisis as demand for #foodbanks soars | Environment | The Guardian #ados #pandemic #coronavirus  https://t.co/JboPvSFgLZ\"\n",
      "  'Positive']]\n",
      "--------\n",
      "250 175 [['Covid-19 #heroes: Ã\\x82Â\\x91The #pub may be closed but that doesnÃ\\x82Â\\x92t mean we canÃ\\x82Â\\x92t help peopleÃ\\x82Â\\x92 https://t.co/RJCkmLDVt5 #coronavirus'\n",
      "  'Positive']\n",
      " ['Covid-19 heroes: Ã\\x82Â\\x91The pub may be closed but that doesnÃ\\x82Â\\x92t mean we canÃ\\x82Â\\x92t help peopleÃ\\x82Â\\x92\\r\\r\\nhttps://t.co/mpq8VYPrcT #coronavirus positive mindset'\n",
      "  'Extremely Positive']]\n",
      "--------\n",
      "440 229 [[\"'A Perfect Storm': U.S. Facing Hunger Crisis as Demand for Food Banks Soars https://t.co/wpA6p2XLU7 @theguardian #coronavirus #COVID19 #foodinsecurity\"\n",
      "  'Negative']\n",
      " [\"'A perfect storm': US facing #hunger #crisis as demand for #foodbanks soars | Environment | The Guardian #ados #pandemic #coronavirus  https://t.co/JboPvSFgLZ\"\n",
      "  'Positive']]\n",
      "--------\n",
      "527 574 [['The world could soon run out of space to store #oil. That may plunge prices below zero. This is not good.\\r\\r\\n#COVID19 #coronavirus #reality \\r\\r\\nhttps://t.co/2eM7GBfMzG'\n",
      "  'Negative']\n",
      " ['The world could soon run out of space to store oil. That may plunge prices below zero. - Experts\\r\\r\\n\\r\\r\\n#Oil / #Petrol prices down amid #Coronavirus crisis #COVID?19'\n",
      "  'Extremely Negative']]\n",
      "--------\n",
      "574 527 [['The world could soon run out of space to store #oil. That may plunge prices below zero. This is not good.\\r\\r\\n#COVID19 #coronavirus #reality \\r\\r\\nhttps://t.co/2eM7GBfMzG'\n",
      "  'Negative']\n",
      " ['The world could soon run out of space to store oil. That may plunge prices below zero. - Experts\\r\\r\\n\\r\\r\\n#Oil / #Petrol prices down amid #Coronavirus crisis #COVID?19'\n",
      "  'Extremely Negative']]\n",
      "--------\n",
      "580 617 [['Grandparent scams in the age of #Coronavirus https://t.co/zjyipJ6N0z'\n",
      "  'Negative']\n",
      " ['BE AWARE!! Grandparent #scams in the age of #Coronavirus https://t.co/fJ45w4A6Yr'\n",
      "  'Neutral']]\n",
      "--------\n",
      "598 1427 [['COVID-19 got my online shopping going crazy...' 'Negative']\n",
      " ['COVID-19 got me online shopping spree' 'Neutral']]\n",
      "--------\n",
      "617 580 [['Grandparent scams in the age of #Coronavirus https://t.co/zjyipJ6N0z'\n",
      "  'Negative']\n",
      " ['BE AWARE!! Grandparent #scams in the age of #Coronavirus https://t.co/fJ45w4A6Yr'\n",
      "  'Neutral']]\n",
      "--------\n",
      "1040 1543 [['Need toilet paper Police officers handed out toilet paper rolls at a Sydney supermarket to try to calm panic buying shoppers during the epidemic'\n",
      "  'Negative']\n",
      " ['Police officers handed out rolls of toilet paper at a Sydney supermarket on Thursday to try to calm shoppers down during the outbreak in Australia'\n",
      "  'Positive']]\n",
      "--------\n"
     ]
    }
   ],
   "source": [
    "# Highlight pairs of tweets that are semantically similar but have different labels\n",
    "index1, index2 = where(cosine_scores >= COSINE_THRESHOLD)\n",
    "pairs_to_consider = list(zip(index1.tolist(), index2.tolist()))\n",
    "for i1, i2 in pairs_to_consider[:len(pairs_to_consider)//2]:\n",
    "    if i1 != i2:\n",
    "        samples = tweets[tweets['index'].isin([i1, i2])]\n",
    "        if samples['Sentiment'].nunique() > 1:\n",
    "            print(i1, i2, samples[['OriginalTweet', 'Sentiment']].values)\n",
    "            print('--------')"
   ]
  },
  {
   "cell_type": "markdown",
   "id": "eda57df0",
   "metadata": {},
   "source": [
    "# Highlighting a particular pair \n",
    "\n",
    "```\n",
    "1040 [['Need toilet paper Police officers handed out toilet paper rolls at a Sydney supermarket to try to calm panic buying shoppers during the epidemic'\n",
    "  'Negative']\n",
    "  \n",
    "1543 ['Police officers handed out rolls of toilet paper at a Sydney supermarket on Thursday to try to calm shoppers down during the outbreak in Australia'\n",
    "  'Positive']]\n",
    "```"
   ]
  },
  {
   "cell_type": "code",
   "execution_count": 30,
   "id": "b5fd6e26",
   "metadata": {},
   "outputs": [
    {
     "data": {
      "text/html": [
       "<div>\n",
       "<style scoped>\n",
       "    .dataframe tbody tr th:only-of-type {\n",
       "        vertical-align: middle;\n",
       "    }\n",
       "\n",
       "    .dataframe tbody tr th {\n",
       "        vertical-align: top;\n",
       "    }\n",
       "\n",
       "    .dataframe thead th {\n",
       "        text-align: right;\n",
       "    }\n",
       "</style>\n",
       "<table border=\"1\" class=\"dataframe\">\n",
       "  <thead>\n",
       "    <tr style=\"text-align: right;\">\n",
       "      <th></th>\n",
       "      <th>sample_id</th>\n",
       "      <th>aum</th>\n",
       "    </tr>\n",
       "  </thead>\n",
       "  <tbody>\n",
       "    <tr>\n",
       "      <th>1194</th>\n",
       "      <td>1543</td>\n",
       "      <td>2.670452</td>\n",
       "    </tr>\n",
       "    <tr>\n",
       "      <th>1291</th>\n",
       "      <td>1040</td>\n",
       "      <td>2.524233</td>\n",
       "    </tr>\n",
       "  </tbody>\n",
       "</table>\n",
       "</div>"
      ],
      "text/plain": [
       "      sample_id       aum\n",
       "1194       1543  2.670452\n",
       "1291       1040  2.524233"
      ]
     },
     "execution_count": 30,
     "metadata": {},
     "output_type": "execute_result"
    }
   ],
   "source": [
    "# AUM says they are both fairly fine\n",
    "aum_values[aum_values['sample_id'].isin((1040, 1543))]"
   ]
  },
  {
   "cell_type": "code",
   "execution_count": 32,
   "id": "9f2553b6",
   "metadata": {},
   "outputs": [
    {
     "data": {
      "text/plain": [
       "count    1725.000000\n",
       "mean        2.821769\n",
       "std         0.928710\n",
       "min        -4.253930\n",
       "25%         2.521283\n",
       "50%         3.029245\n",
       "75%         3.387813\n",
       "max         4.209358\n",
       "Name: aum, dtype: float64"
      ]
     },
     "execution_count": 32,
     "metadata": {},
     "output_type": "execute_result"
    }
   ],
   "source": [
    "aum_values['aum'].describe()  # AUM values are low but not crazy low"
   ]
  },
  {
   "cell_type": "code",
   "execution_count": null,
   "id": "dca10ac3",
   "metadata": {},
   "outputs": [],
   "source": []
  },
  {
   "cell_type": "code",
   "execution_count": 36,
   "id": "fb7bff0b",
   "metadata": {},
   "outputs": [],
   "source": [
    "URL_REGEX = re.compile('http(s)?:\\/\\/t.co\\/\\w+')\n",
    "MENTION_REGEX = re.compile('@\\w+')\n",
    "def clean_tweet(tweet):\n",
    "    # remove mentions, the pound sign, and replace urls with URL token\n",
    "    tweet = re.sub(URL_REGEX, 'url', tweet)  # replace urls with url. Assumes that the mention of a url is significant\n",
    "    tweet = re.sub(MENTION_REGEX, '', tweet)  # remove mentions entirely\n",
    "    tweet = tweet.replace('#', '')  # remove pound signs\n",
    "    \n",
    "    return tweet.strip()"
   ]
  },
  {
   "cell_type": "code",
   "execution_count": 40,
   "id": "3a00efce",
   "metadata": {
    "scrolled": true
   },
   "outputs": [
    {
     "name": "stderr",
     "output_type": "stream",
     "text": [
      "/var/folders/y9/9xqbqkg90tnc0cmm0dxt985m0000gn/T/ipykernel_10743/946628709.py:2: UserWarning: Implicit dimension choice for softmax has been deprecated. Change the call to include dim=X as an argument.\n",
      "  Softmax()(sequence_classification_model(**bert_tokenizer(\n"
     ]
    },
    {
     "data": {
      "text/plain": [
       "tensor([[0.9784, 0.0090, 0.0126]], grad_fn=<SoftmaxBackward0>)"
      ]
     },
     "execution_count": 40,
     "metadata": {},
     "output_type": "execute_result"
    }
   ],
   "source": [
    "# Our model is VERY confident in its predictions\n",
    "Softmax()(sequence_classification_model(**bert_tokenizer(\n",
    "    clean_tweet('Need toilet paper Police officers handed out toilet paper rolls at a Sydney supermarket to try to calm panic buying shoppers during the epidemic')\n",
    ", return_tensors='pt')).logits)"
   ]
  },
  {
   "cell_type": "code",
   "execution_count": 41,
   "id": "1844cfef",
   "metadata": {},
   "outputs": [
    {
     "name": "stderr",
     "output_type": "stream",
     "text": [
      "/var/folders/y9/9xqbqkg90tnc0cmm0dxt985m0000gn/T/ipykernel_10743/3835207212.py:2: UserWarning: Implicit dimension choice for softmax has been deprecated. Change the call to include dim=X as an argument.\n",
      "  Softmax()(sequence_classification_model(**bert_tokenizer(\n"
     ]
    },
    {
     "data": {
      "text/plain": [
       "tensor([[0.0041, 0.0153, 0.9806]], grad_fn=<SoftmaxBackward0>)"
      ]
     },
     "execution_count": 41,
     "metadata": {},
     "output_type": "execute_result"
    }
   ],
   "source": [
    "# Our model is VERY confident in its predictions\n",
    "Softmax()(sequence_classification_model(**bert_tokenizer(\n",
    "    clean_tweet('Police officers handed out rolls of toilet paper at a Sydney supermarket on Thursday to try to calm shoppers down during the outbreak in Australia')\n",
    ", return_tensors='pt')).logits)"
   ]
  },
  {
   "cell_type": "code",
   "execution_count": 42,
   "id": "1a40b19e",
   "metadata": {},
   "outputs": [],
   "source": [
    "# Our model may be overfitting making it harder to predict unseen data"
   ]
  },
  {
   "cell_type": "code",
   "execution_count": null,
   "id": "3f737186",
   "metadata": {},
   "outputs": [],
   "source": []
  }
 ],
 "metadata": {
  "kernelspec": {
   "display_name": "Python 3 (ipykernel)",
   "language": "python",
   "name": "python3"
  },
  "language_info": {
   "codemirror_mode": {
    "name": "ipython",
    "version": 3
   },
   "file_extension": ".py",
   "mimetype": "text/x-python",
   "name": "python",
   "nbconvert_exporter": "python",
   "pygments_lexer": "ipython3",
   "version": "3.9.12"
  }
 },
 "nbformat": 4,
 "nbformat_minor": 5
}
